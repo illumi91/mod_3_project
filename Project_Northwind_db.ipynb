{
 "cells": [
  {
   "cell_type": "markdown",
   "metadata": {},
   "source": [
    "# Hypothesis Testing Project on Northwind Database         by _Luigi Fiori_"
   ]
  },
  {
   "cell_type": "markdown",
   "metadata": {},
   "source": [
    "During this project we'll be gathering information from a real-world database and use our knowledge of statistical analysis and hypothesis testing to generate analytical insights that can be of value to the company.\n",
    "\n",
    "This is a free and open-source dataset called \"Northwind Database\", created by Microsoft and containing data from a fictional company."
   ]
  },
  {
   "cell_type": "markdown",
   "metadata": {},
   "source": [
    "We start checking the files present in our repo."
   ]
  },
  {
   "cell_type": "code",
   "execution_count": 1,
   "metadata": {},
   "outputs": [
    {
     "name": "stdout",
     "output_type": "stream",
     "text": [
      " Volume in drive C is OS\n",
      " Volume Serial Number is D816-28B0\n",
      "\n",
      " Directory of C:\\Users\\luigi\\FlatironSchool\\Module03\\Project_Mod_03\\dsc-mod-3-project-online-ds-pt-051319\n",
      "\n",
      "23/09/2019  18:04    <DIR>          .\n",
      "23/09/2019  18:04    <DIR>          ..\n",
      "14/09/2019  13:12                29 .gitignore\n",
      "23/09/2019  14:46    <DIR>          .ipynb_checkpoints\n",
      "14/09/2019  13:12                93 .learn\n",
      "14/09/2019  13:12           526,610 adventureworks2008_schema.gif\n",
      "14/09/2019  13:12             1,849 CONTRIBUTING.md\n",
      "14/09/2019  13:12         2,930,391 halfway-there.gif\n",
      "14/09/2019  13:12             1,371 LICENSE.md\n",
      "14/09/2019  13:12            78,531 module3_project_rubric.pdf\n",
      "14/09/2019  13:12            96,050 Northwind_ERD.png\n",
      "14/09/2019  13:12            96,271 Northwind_ERD_updated.png\n",
      "14/09/2019  13:12           290,816 Northwind_small.sqlite\n",
      "23/09/2019  15:54    <DIR>          pics_category\n",
      "23/09/2019  15:54    <DIR>          pics_countries\n",
      "23/09/2019  16:06    <DIR>          pics_december\n",
      "23/09/2019  16:06    <DIR>          pics_revenue_disc\n",
      "23/09/2019  15:55    <DIR>          pics_shippers\n",
      "23/09/2019  15:47    <DIR>          pictures_qt_disc\n",
      "23/09/2019  18:04           504,378 Project_Northwind_db.ipynb\n",
      "23/09/2019  17:15             7,829 readme.ipynb\n",
      "14/09/2019  13:12             5,085 README.md\n",
      "              13 File(s)      4,539,303 bytes\n",
      "               9 Dir(s)  67,468,931,072 bytes free\n"
     ]
    }
   ],
   "source": [
    "ls "
   ]
  },
  {
   "cell_type": "markdown",
   "metadata": {},
   "source": [
    "# Importing needed libraries"
   ]
  },
  {
   "cell_type": "code",
   "execution_count": 2,
   "metadata": {},
   "outputs": [],
   "source": [
    "import pandas as pd\n",
    "import sqlite3 \n",
    "import matplotlib.pyplot as plt\n",
    "%matplotlib inline\n",
    "import numpy as np\n",
    "import seaborn as sns\n",
    "import scipy.stats as stats\n",
    "import statsmodels.api as sm\n",
    "import itertools\n",
    "from statsmodels.formula.api import ols\n",
    "from statsmodels.stats.multicomp import pairwise_tukeyhsd\n",
    "from statsmodels.stats.multicomp import MultiComparison\n",
    "import warnings\n",
    "warnings.filterwarnings('ignore')"
   ]
  },
  {
   "cell_type": "markdown",
   "metadata": {},
   "source": [
    "## Connect to SQL Database"
   ]
  },
  {
   "cell_type": "code",
   "execution_count": 3,
   "metadata": {},
   "outputs": [],
   "source": [
    "conn = sqlite3.Connection('Northwind_small.sqlite')\n",
    "cur = conn.cursor()"
   ]
  },
  {
   "cell_type": "markdown",
   "metadata": {},
   "source": [
    "Querying our database"
   ]
  },
  {
   "cell_type": "code",
   "execution_count": 4,
   "metadata": {},
   "outputs": [
    {
     "data": {
      "text/html": [
       "<div>\n",
       "<style scoped>\n",
       "    .dataframe tbody tr th:only-of-type {\n",
       "        vertical-align: middle;\n",
       "    }\n",
       "\n",
       "    .dataframe tbody tr th {\n",
       "        vertical-align: top;\n",
       "    }\n",
       "\n",
       "    .dataframe thead th {\n",
       "        text-align: right;\n",
       "    }\n",
       "</style>\n",
       "<table border=\"1\" class=\"dataframe\">\n",
       "  <thead>\n",
       "    <tr style=\"text-align: right;\">\n",
       "      <th></th>\n",
       "      <th>ProductId</th>\n",
       "      <th>ProductName</th>\n",
       "      <th>UnitPrice</th>\n",
       "      <th>Quantity</th>\n",
       "      <th>Discount</th>\n",
       "    </tr>\n",
       "  </thead>\n",
       "  <tbody>\n",
       "    <tr>\n",
       "      <th>0</th>\n",
       "      <td>1</td>\n",
       "      <td>Chai</td>\n",
       "      <td>18.0</td>\n",
       "      <td>2</td>\n",
       "      <td>0.00</td>\n",
       "    </tr>\n",
       "    <tr>\n",
       "      <th>1</th>\n",
       "      <td>1</td>\n",
       "      <td>Chai</td>\n",
       "      <td>18.0</td>\n",
       "      <td>3</td>\n",
       "      <td>0.00</td>\n",
       "    </tr>\n",
       "    <tr>\n",
       "      <th>2</th>\n",
       "      <td>1</td>\n",
       "      <td>Chai</td>\n",
       "      <td>18.0</td>\n",
       "      <td>4</td>\n",
       "      <td>0.00</td>\n",
       "    </tr>\n",
       "    <tr>\n",
       "      <th>3</th>\n",
       "      <td>1</td>\n",
       "      <td>Chai</td>\n",
       "      <td>18.0</td>\n",
       "      <td>4</td>\n",
       "      <td>0.25</td>\n",
       "    </tr>\n",
       "    <tr>\n",
       "      <th>4</th>\n",
       "      <td>1</td>\n",
       "      <td>Chai</td>\n",
       "      <td>18.0</td>\n",
       "      <td>5</td>\n",
       "      <td>0.20</td>\n",
       "    </tr>\n",
       "  </tbody>\n",
       "</table>\n",
       "</div>"
      ],
      "text/plain": [
       "   ProductId ProductName  UnitPrice  Quantity  Discount\n",
       "0          1        Chai       18.0         2      0.00\n",
       "1          1        Chai       18.0         3      0.00\n",
       "2          1        Chai       18.0         4      0.00\n",
       "3          1        Chai       18.0         4      0.25\n",
       "4          1        Chai       18.0         5      0.20"
      ]
     },
     "execution_count": 4,
     "metadata": {},
     "output_type": "execute_result"
    }
   ],
   "source": [
    "cur.execute(\"\"\"SELECT ProductID, ProductName, UnitPrice, Quantity, Discount\n",
    "               FROM Product\n",
    "               JOIN OrderDetail\n",
    "               USING(UnitPrice)\n",
    "               \"\"\")\n",
    "df = pd.DataFrame(cur.fetchall()) #Take results and create dataframe\n",
    "df.columns = [i[0] for i in cur.description]\n",
    "df.head()"
   ]
  },
  {
   "cell_type": "markdown",
   "metadata": {},
   "source": [
    "# EDA"
   ]
  },
  {
   "cell_type": "markdown",
   "metadata": {},
   "source": [
    "###### Let's analise the dataframe created to check number of columns, rows and size."
   ]
  },
  {
   "cell_type": "code",
   "execution_count": 5,
   "metadata": {},
   "outputs": [
    {
     "name": "stdout",
     "output_type": "stream",
     "text": [
      "<class 'pandas.core.frame.DataFrame'>\n",
      "RangeIndex: 2458 entries, 0 to 2457\n",
      "Data columns (total 5 columns):\n",
      "ProductId      2458 non-null int64\n",
      "ProductName    2458 non-null object\n",
      "UnitPrice      2458 non-null float64\n",
      "Quantity       2458 non-null int64\n",
      "Discount       2458 non-null float64\n",
      "dtypes: float64(2), int64(2), object(1)\n",
      "memory usage: 96.1+ KB\n"
     ]
    }
   ],
   "source": [
    "df.info()"
   ]
  },
  {
   "cell_type": "markdown",
   "metadata": {},
   "source": [
    "Check presence of missing values."
   ]
  },
  {
   "cell_type": "code",
   "execution_count": 6,
   "metadata": {},
   "outputs": [
    {
     "data": {
      "text/plain": [
       "ProductId      0\n",
       "ProductName    0\n",
       "UnitPrice      0\n",
       "Quantity       0\n",
       "Discount       0\n",
       "dtype: int64"
      ]
     },
     "execution_count": 6,
     "metadata": {},
     "output_type": "execute_result"
    }
   ],
   "source": [
    "df.isnull().sum()"
   ]
  },
  {
   "cell_type": "markdown",
   "metadata": {},
   "source": [
    "We wanna now check if there are outliers present in our data set."
   ]
  },
  {
   "cell_type": "code",
   "execution_count": 7,
   "metadata": {},
   "outputs": [
    {
     "data": {
      "text/html": [
       "<div>\n",
       "<style scoped>\n",
       "    .dataframe tbody tr th:only-of-type {\n",
       "        vertical-align: middle;\n",
       "    }\n",
       "\n",
       "    .dataframe tbody tr th {\n",
       "        vertical-align: top;\n",
       "    }\n",
       "\n",
       "    .dataframe thead th {\n",
       "        text-align: right;\n",
       "    }\n",
       "</style>\n",
       "<table border=\"1\" class=\"dataframe\">\n",
       "  <thead>\n",
       "    <tr style=\"text-align: right;\">\n",
       "      <th></th>\n",
       "      <th>ProductId</th>\n",
       "      <th>UnitPrice</th>\n",
       "      <th>Quantity</th>\n",
       "      <th>Discount</th>\n",
       "    </tr>\n",
       "  </thead>\n",
       "  <tbody>\n",
       "    <tr>\n",
       "      <th>count</th>\n",
       "      <td>2458.000000</td>\n",
       "      <td>2458.000000</td>\n",
       "      <td>2458.000000</td>\n",
       "      <td>2458.000000</td>\n",
       "    </tr>\n",
       "    <tr>\n",
       "      <th>mean</th>\n",
       "      <td>39.437347</td>\n",
       "      <td>23.460460</td>\n",
       "      <td>23.815297</td>\n",
       "      <td>0.058035</td>\n",
       "    </tr>\n",
       "    <tr>\n",
       "      <th>std</th>\n",
       "      <td>22.911012</td>\n",
       "      <td>25.372515</td>\n",
       "      <td>19.473453</td>\n",
       "      <td>0.085474</td>\n",
       "    </tr>\n",
       "    <tr>\n",
       "      <th>min</th>\n",
       "      <td>1.000000</td>\n",
       "      <td>2.500000</td>\n",
       "      <td>1.000000</td>\n",
       "      <td>0.000000</td>\n",
       "    </tr>\n",
       "    <tr>\n",
       "      <th>25%</th>\n",
       "      <td>21.000000</td>\n",
       "      <td>12.500000</td>\n",
       "      <td>10.000000</td>\n",
       "      <td>0.000000</td>\n",
       "    </tr>\n",
       "    <tr>\n",
       "      <th>50%</th>\n",
       "      <td>39.000000</td>\n",
       "      <td>18.000000</td>\n",
       "      <td>20.000000</td>\n",
       "      <td>0.000000</td>\n",
       "    </tr>\n",
       "    <tr>\n",
       "      <th>75%</th>\n",
       "      <td>60.000000</td>\n",
       "      <td>25.890000</td>\n",
       "      <td>30.000000</td>\n",
       "      <td>0.100000</td>\n",
       "    </tr>\n",
       "    <tr>\n",
       "      <th>max</th>\n",
       "      <td>77.000000</td>\n",
       "      <td>263.500000</td>\n",
       "      <td>130.000000</td>\n",
       "      <td>0.250000</td>\n",
       "    </tr>\n",
       "  </tbody>\n",
       "</table>\n",
       "</div>"
      ],
      "text/plain": [
       "         ProductId    UnitPrice     Quantity     Discount\n",
       "count  2458.000000  2458.000000  2458.000000  2458.000000\n",
       "mean     39.437347    23.460460    23.815297     0.058035\n",
       "std      22.911012    25.372515    19.473453     0.085474\n",
       "min       1.000000     2.500000     1.000000     0.000000\n",
       "25%      21.000000    12.500000    10.000000     0.000000\n",
       "50%      39.000000    18.000000    20.000000     0.000000\n",
       "75%      60.000000    25.890000    30.000000     0.100000\n",
       "max      77.000000   263.500000   130.000000     0.250000"
      ]
     },
     "execution_count": 7,
     "metadata": {},
     "output_type": "execute_result"
    }
   ],
   "source": [
    "df.describe()"
   ]
  },
  {
   "cell_type": "markdown",
   "metadata": {},
   "source": [
    "# 1st Question"
   ]
  },
  {
   "cell_type": "markdown",
   "metadata": {},
   "source": [
    "### Does discount amount have a statistically significant effect on the quantity of a product in an order? If so, at what level(s) of discount?"
   ]
  },
  {
   "cell_type": "markdown",
   "metadata": {},
   "source": [
    "Let's start filtering our dataframe to get those rows where discount is present, we then groupby using 'ProductId' and we select the mean of the quantity column."
   ]
  },
  {
   "cell_type": "code",
   "execution_count": 8,
   "metadata": {},
   "outputs": [
    {
     "data": {
      "text/plain": [
       "ProductId\n",
       "1    27.846154\n",
       "2    24.294118\n",
       "3    20.000000\n",
       "4    30.875000\n",
       "5    30.500000\n",
       "Name: Quantity, dtype: float64"
      ]
     },
     "execution_count": 8,
     "metadata": {},
     "output_type": "execute_result"
    }
   ],
   "source": [
    "disc = df[df['Discount'] != 0].groupby('ProductId')['Quantity'].mean()\n",
    "disc.head()"
   ]
  },
  {
   "cell_type": "markdown",
   "metadata": {},
   "source": [
    "Same as before but no discount."
   ]
  },
  {
   "cell_type": "code",
   "execution_count": 9,
   "metadata": {},
   "outputs": [
    {
     "data": {
      "text/plain": [
       "ProductId\n",
       "1    18.250000\n",
       "2    17.357143\n",
       "3    26.000000\n",
       "4    13.833333\n",
       "5    29.333333\n",
       "Name: Quantity, dtype: float64"
      ]
     },
     "execution_count": 9,
     "metadata": {},
     "output_type": "execute_result"
    }
   ],
   "source": [
    "no_disc = df[df['Discount'] == 0].groupby('ProductId')['Quantity'].mean()\n",
    "no_disc.head()"
   ]
  },
  {
   "cell_type": "markdown",
   "metadata": {},
   "source": [
    "Let's visualize our distributions to have a first look at it."
   ]
  },
  {
   "cell_type": "code",
   "execution_count": 10,
   "metadata": {
    "scrolled": false
   },
   "outputs": [
    {
     "data": {
      "image/png": "[encoded data removed]",
      "text/plain": [
       "<Figure size 864x576 with 1 Axes>"
      ]
     },
     "metadata": {},
     "output_type": "display_data"
    }
   ],
   "source": [
    "plt.style.use('ggplot')\n",
    "plt.figure(figsize=(12,8))\n",
    "plt.hist(disc, label = 'discount', bins = 25)\n",
    "plt.hist(no_disc, label = 'no discount', alpha = .5, bins = 25)\n",
    "plt.title('Comparison quantity products sold with or without discount', fontsize = 24)\n",
    "plt.xlabel('Quantity', fontsize = 18)\n",
    "plt.ylabel('Frequency', fontsize = 18)\n",
    "plt.legend(fontsize = 18)\n",
    "plt.show();"
   ]
  },
  {
   "cell_type": "code",
   "execution_count": 11,
   "metadata": {},
   "outputs": [
    {
     "data": {
      "text/plain": [
       "4.1010957260331935"
      ]
     },
     "execution_count": 11,
     "metadata": {},
     "output_type": "execute_result"
    }
   ],
   "source": [
    "mean_diff_quant = np.mean(disc) - np.mean(no_disc)\n",
    "mean_diff_quant"
   ]
  },
  {
   "cell_type": "markdown",
   "metadata": {},
   "source": [
    "After a first look at the histogram and at the mean difference between quantity ordered with or without discount applied, we are not yet able to get a valuable answer.\n",
    "In the next step we gonna perform an  hipothesis test to check if there's statistical difference between those quantities, i.e we want to know if the mean difference found is due to random chance or not."
   ]
  },
  {
   "cell_type": "markdown",
   "metadata": {},
   "source": [
    "# Defining Null and Alternative Hipothesis\n",
    "\n",
    "Considering that we wanna observe if the quantity sold discounted is greater than the quantity sold not discounted we'll perform a **_One Tail Test_**.\n",
    "\n",
    "**H_null** = qt. discounted sold <= qt. not discounted sold\n",
    "\n",
    "**H_alt** =  qt. discounted sold > qt. not discounted sold\n",
    "\n",
    "Alpha level = 0.05"
   ]
  },
  {
   "cell_type": "markdown",
   "metadata": {},
   "source": [
    "# Monte Carlo Simulations"
   ]
  },
  {
   "cell_type": "markdown",
   "metadata": {},
   "source": [
    "Our data don't seem normally distributed, for this reason we'll use Monte Carlo Simulations that is a non-parametric test."
   ]
  },
  {
   "cell_type": "code",
   "execution_count": 12,
   "metadata": {},
   "outputs": [],
   "source": [
    "disc = df[df['Discount'] != 0]['Quantity']\n",
    "no_disc = df[df['Discount'] == 0]['Quantity']"
   ]
  },
  {
   "cell_type": "code",
   "execution_count": 13,
   "metadata": {},
   "outputs": [],
   "source": [
    "frames = [disc,no_disc]\n",
    "all_data = pd.concat(frames)"
   ]
  },
  {
   "cell_type": "code",
   "execution_count": 14,
   "metadata": {},
   "outputs": [
    {
     "data": {
      "text/plain": [
       "pandas.core.series.Series"
      ]
     },
     "execution_count": 14,
     "metadata": {},
     "output_type": "execute_result"
    }
   ],
   "source": [
    "type(all_data)"
   ]
  },
  {
   "cell_type": "code",
   "execution_count": 15,
   "metadata": {},
   "outputs": [
    {
     "data": {
      "text/html": [
       "<div>\n",
       "<style scoped>\n",
       "    .dataframe tbody tr th:only-of-type {\n",
       "        vertical-align: middle;\n",
       "    }\n",
       "\n",
       "    .dataframe tbody tr th {\n",
       "        vertical-align: top;\n",
       "    }\n",
       "\n",
       "    .dataframe thead th {\n",
       "        text-align: right;\n",
       "    }\n",
       "</style>\n",
       "<table border=\"1\" class=\"dataframe\">\n",
       "  <thead>\n",
       "    <tr style=\"text-align: right;\">\n",
       "      <th></th>\n",
       "      <th>all_data</th>\n",
       "    </tr>\n",
       "  </thead>\n",
       "  <tbody>\n",
       "    <tr>\n",
       "      <th>3</th>\n",
       "      <td>4</td>\n",
       "    </tr>\n",
       "    <tr>\n",
       "      <th>4</th>\n",
       "      <td>5</td>\n",
       "    </tr>\n",
       "    <tr>\n",
       "      <th>8</th>\n",
       "      <td>8</td>\n",
       "    </tr>\n",
       "    <tr>\n",
       "      <th>12</th>\n",
       "      <td>10</td>\n",
       "    </tr>\n",
       "    <tr>\n",
       "      <th>13</th>\n",
       "      <td>15</td>\n",
       "    </tr>\n",
       "  </tbody>\n",
       "</table>\n",
       "</div>"
      ],
      "text/plain": [
       "    all_data\n",
       "3          4\n",
       "4          5\n",
       "8          8\n",
       "12        10\n",
       "13        15"
      ]
     },
     "execution_count": 15,
     "metadata": {},
     "output_type": "execute_result"
    }
   ],
   "source": [
    "df1 = pd.DataFrame({'all_data' : all_data})\n",
    "df1.head()"
   ]
  },
  {
   "cell_type": "markdown",
   "metadata": {},
   "source": [
    "We have created a dataframe contaaining all the values from disc and no_disc"
   ]
  },
  {
   "cell_type": "code",
   "execution_count": 16,
   "metadata": {},
   "outputs": [
    {
     "data": {
      "text/plain": [
       "(961, 1497, 2458)"
      ]
     },
     "execution_count": 16,
     "metadata": {},
     "output_type": "execute_result"
    }
   ],
   "source": [
    "len(disc), len(no_disc), len(all_data)"
   ]
  },
  {
   "cell_type": "markdown",
   "metadata": {},
   "source": [
    "Through the for loop below we gonna check if the sample mean difference for each sample is smaller than the mean difference of the distribution and in this case adding 1 to our counter.\n",
    "Dividing the counter over sample size we get our p-value"
   ]
  },
  {
   "cell_type": "code",
   "execution_count": 17,
   "metadata": {},
   "outputs": [
    {
     "data": {
      "image/png": "[encoded data removed]",
      "text/plain": [
       "<Figure size 864x576 with 1 Axes>"
      ]
     },
     "metadata": {},
     "output_type": "display_data"
    }
   ],
   "source": [
    "mean_diff_quant = np.mean(disc) - np.mean(no_disc)\n",
    "sample_diff = []\n",
    "counter = 0\n",
    "\n",
    "for i in range(10**4):\n",
    "    #Generate sample for discount\n",
    "    sample_disc = df1.sample(n=len(disc), replace=False)\n",
    "    #Generate sample no_discount\n",
    "    sample_no_disc = df1.drop(sample_disc.index, axis = 0)\n",
    "    sample_mean_diff = sample_disc['all_data'].mean() - sample_no_disc['all_data'].mean()\n",
    "    sample_diff.append(sample_mean_diff)\n",
    "    if sample_mean_diff < mean_diff_quant:\n",
    "        counter += 1\n",
    "\n",
    "plt.figure(figsize=(12,8))\n",
    "plt.hist(sample_diff)\n",
    "plt.axvline(mean_diff_quant)\n",
    "plt.title(f'10**4 samples - p-value: {1 - counter/10**4}', fontsize = 24);"
   ]
  },
  {
   "cell_type": "markdown",
   "metadata": {},
   "source": [
    "As we see the p-value is 0 so we reject the null hypothesis.\n",
    "We can say that when the discount is applied on average the quantity sold is higher."
   ]
  },
  {
   "cell_type": "markdown",
   "metadata": {},
   "source": [
    "# Welch's Test"
   ]
  },
  {
   "cell_type": "markdown",
   "metadata": {},
   "source": [
    "As a sanity check we gonna perform a Welch's Test that is commonly used in the industry for normal distributions having different mean."
   ]
  },
  {
   "cell_type": "code",
   "execution_count": 18,
   "metadata": {},
   "outputs": [
    {
     "data": {
      "text/plain": [
       "Ttest_indResult(statistic=6.0192242098850555, pvalue=2.130356906716645e-09)"
      ]
     },
     "execution_count": 18,
     "metadata": {},
     "output_type": "execute_result"
    }
   ],
   "source": [
    "stats.ttest_ind(disc, no_disc, equal_var= False)"
   ]
  },
  {
   "cell_type": "markdown",
   "metadata": {},
   "source": [
    "Again we reject the null hypothesis."
   ]
  },
  {
   "cell_type": "code",
   "execution_count": 19,
   "metadata": {},
   "outputs": [
    {
     "data": {
      "image/png": "[encoded data removed]",
      "text/plain": [
       "<Figure size 864x576 with 1 Axes>"
      ]
     },
     "metadata": {},
     "output_type": "display_data"
    }
   ],
   "source": [
    "plt.figure(figsize=(12,8))\n",
    "sns.distplot(no_disc, label = ('No disc'))\n",
    "sns.distplot(disc, label= ('Disc'))\n",
    "plt.legend();"
   ]
  },
  {
   "cell_type": "markdown",
   "metadata": {},
   "source": [
    "# Effect Size"
   ]
  },
  {
   "cell_type": "markdown",
   "metadata": {},
   "source": [
    "Cohen’s D is one of the most common ways to measure effect size.  As an effect size, Cohen's d is typically used to represent the magnitude of differences between two (or more) groups on a given variable, with larger values representing a greater differentiation between the two groups on that variable. \n",
    "\n",
    "The basic formula to calculate Cohen’s $d$ is:\n"
   ]
  },
  {
   "cell_type": "code",
   "execution_count": 20,
   "metadata": {},
   "outputs": [],
   "source": [
    "def Cohen_d(group1, group2):\n",
    "    \n",
    "    '''function to calculate Cohen's d coefficient'''\n",
    "\n",
    "    diff = group1.mean() - group2.mean()\n",
    "    n1, n2 = len(group1), len(group2)\n",
    "    var1 = group1.var()\n",
    "    var2 = group2.var()\n",
    "    # Calculate the pooled threshold as shown earlier\n",
    "    pooled_var = (n1 * var1 + n2 * var2) / (n1 + n2)\n",
    "    \n",
    "    d = diff / np.sqrt(pooled_var)\n",
    "    return d"
   ]
  },
  {
   "cell_type": "code",
   "execution_count": 21,
   "metadata": {},
   "outputs": [
    {
     "data": {
      "text/plain": [
       "0.2600093359962642"
      ]
     },
     "execution_count": 21,
     "metadata": {},
     "output_type": "execute_result"
    }
   ],
   "source": [
    "Cohen_d(disc, no_disc)"
   ]
  },
  {
   "cell_type": "markdown",
   "metadata": {},
   "source": [
    "As we can see from the d result obtained the effect size of 0.26 result being small."
   ]
  },
  {
   "cell_type": "markdown",
   "metadata": {},
   "source": [
    "# Check statistically significant difference with and without discount"
   ]
  },
  {
   "cell_type": "markdown",
   "metadata": {},
   "source": [
    "# Defining Null and Alternative Hipotheses\n",
    "\n",
    "Considering that we wanna observe if the quantity sold discounted is greater than the quantity sold not discounted we'll perform a **_One Tail Test_**.\n",
    "\n",
    "**H_null** = qt. discounted sold <= qt. not discounted sold\n",
    "\n",
    "**H_alt** =  qt. discounted sold > qt. not discounted sold\n",
    "\n",
    "\n",
    "Alpha level = 0.05"
   ]
  },
  {
   "cell_type": "markdown",
   "metadata": {},
   "source": [
    "Let's now check if different levels of discount are affecting the quantity sold and how"
   ]
  },
  {
   "cell_type": "code",
   "execution_count": 22,
   "metadata": {
    "scrolled": true
   },
   "outputs": [
    {
     "data": {
      "text/html": [
       "<div>\n",
       "<style scoped>\n",
       "    .dataframe tbody tr th:only-of-type {\n",
       "        vertical-align: middle;\n",
       "    }\n",
       "\n",
       "    .dataframe tbody tr th {\n",
       "        vertical-align: top;\n",
       "    }\n",
       "\n",
       "    .dataframe thead th {\n",
       "        text-align: right;\n",
       "    }\n",
       "</style>\n",
       "<table border=\"1\" class=\"dataframe\">\n",
       "  <thead>\n",
       "    <tr style=\"text-align: right;\">\n",
       "      <th></th>\n",
       "      <th>ProductId</th>\n",
       "      <th>ProductName</th>\n",
       "      <th>UnitPrice</th>\n",
       "      <th>Quantity</th>\n",
       "      <th>Discount</th>\n",
       "      <th>Revenue</th>\n",
       "    </tr>\n",
       "  </thead>\n",
       "  <tbody>\n",
       "    <tr>\n",
       "      <th>0</th>\n",
       "      <td>1</td>\n",
       "      <td>Chai</td>\n",
       "      <td>18.0</td>\n",
       "      <td>2</td>\n",
       "      <td>0.00</td>\n",
       "      <td>36.0</td>\n",
       "    </tr>\n",
       "    <tr>\n",
       "      <th>1</th>\n",
       "      <td>1</td>\n",
       "      <td>Chai</td>\n",
       "      <td>18.0</td>\n",
       "      <td>3</td>\n",
       "      <td>0.00</td>\n",
       "      <td>54.0</td>\n",
       "    </tr>\n",
       "    <tr>\n",
       "      <th>2</th>\n",
       "      <td>1</td>\n",
       "      <td>Chai</td>\n",
       "      <td>18.0</td>\n",
       "      <td>4</td>\n",
       "      <td>0.00</td>\n",
       "      <td>72.0</td>\n",
       "    </tr>\n",
       "    <tr>\n",
       "      <th>3</th>\n",
       "      <td>1</td>\n",
       "      <td>Chai</td>\n",
       "      <td>18.0</td>\n",
       "      <td>4</td>\n",
       "      <td>0.25</td>\n",
       "      <td>72.0</td>\n",
       "    </tr>\n",
       "    <tr>\n",
       "      <th>4</th>\n",
       "      <td>1</td>\n",
       "      <td>Chai</td>\n",
       "      <td>18.0</td>\n",
       "      <td>5</td>\n",
       "      <td>0.20</td>\n",
       "      <td>90.0</td>\n",
       "    </tr>\n",
       "  </tbody>\n",
       "</table>\n",
       "</div>"
      ],
      "text/plain": [
       "   ProductId ProductName  UnitPrice  Quantity  Discount  Revenue\n",
       "0          1        Chai       18.0         2      0.00     36.0\n",
       "1          1        Chai       18.0         3      0.00     54.0\n",
       "2          1        Chai       18.0         4      0.00     72.0\n",
       "3          1        Chai       18.0         4      0.25     72.0\n",
       "4          1        Chai       18.0         5      0.20     90.0"
      ]
     },
     "execution_count": 22,
     "metadata": {},
     "output_type": "execute_result"
    }
   ],
   "source": [
    "cur.execute(\"\"\"SELECT ProductID, ProductName, UnitPrice, Quantity, Discount, Unitprice*quantity as Revenue\n",
    "               FROM Product\n",
    "               JOIN OrderDetail\n",
    "               USING(UnitPrice)\n",
    "               \"\"\")\n",
    "df = pd.DataFrame(cur.fetchall()) #Take results and create dataframe\n",
    "df.columns = [i[0] for i in cur.description]\n",
    "df.head()"
   ]
  },
  {
   "cell_type": "code",
   "execution_count": 23,
   "metadata": {
    "scrolled": false
   },
   "outputs": [
    {
     "data": {
      "text/plain": [
       "0.00    1497\n",
       "0.05     209\n",
       "0.20     198\n",
       "0.25     191\n",
       "0.15     184\n",
       "0.10     170\n",
       "0.03       3\n",
       "0.01       2\n",
       "0.02       2\n",
       "0.04       1\n",
       "0.06       1\n",
       "Name: Discount, dtype: int64"
      ]
     },
     "execution_count": 23,
     "metadata": {},
     "output_type": "execute_result"
    }
   ],
   "source": [
    "disc = df['Discount'].value_counts()\n",
    "disc"
   ]
  },
  {
   "cell_type": "markdown",
   "metadata": {},
   "source": [
    "From our value_counts method comes out that few levels of discount are applied in very small quantities.\n",
    "We decide so to take in consideration just the ones where the quantity level is decent for a comparison."
   ]
  },
  {
   "cell_type": "code",
   "execution_count": 24,
   "metadata": {
    "scrolled": true
   },
   "outputs": [
    {
     "name": "stdout",
     "output_type": "stream",
     "text": [
      "p-value: 0.00020242644293690925,  discount: 0.05, d: 0.34011892483332096\n",
      "p-value: 0.059408472241625404,  discount: 0.1, d: 0.19226210772157185\n",
      "p-value: 0.0006408369853993879,  discount: 0.15, d: 0.2932127973345307\n",
      "p-value: 0.00046767005488145745,  discount: 0.2, d: 0.320693712836777\n",
      "p-value: 0.0006551534111424134,  discount: 0.25, d: 0.28636073205553286\n"
     ]
    }
   ],
   "source": [
    "discounts = ([ 0.05, 0.1, 0.15, 0.2, 0.25])\n",
    "no_discount = df[df['Discount']==0]['Quantity']\n",
    "\n",
    "for x in discounts:\n",
    "    \n",
    "    discount = df[df['Discount']==x]['Quantity']\n",
    "    st, p = stats.ttest_ind(discount, no_disc, equal_var= False)\n",
    "    d = Cohen_d(discount , no_discount)\n",
    "    print(f'p-value: {p},  discount: {x}, d: {d}' )"
   ]
  },
  {
   "cell_type": "code",
   "execution_count": 25,
   "metadata": {},
   "outputs": [
    {
     "name": "stdout",
     "output_type": "stream",
     "text": [
      "0.00020242644293690925\n",
      "0.059408472241625404\n",
      "0.0006408369853993879\n",
      "0.00046767005488145745\n",
      "0.0006551534111424134\n"
     ]
    }
   ],
   "source": [
    "no_discount = df[df['Discount']==0]['Quantity']\n",
    "\n",
    "for x in ([ 0.05, 0.1, 0.15, 0.2, 0.25]):\n",
    "    \n",
    "    discount = df[df['Discount']==x]['Quantity']\n",
    "    st, p = stats.ttest_ind(discount, no_disc, equal_var= False)\n",
    "    \n",
    "    print(p)"
   ]
  },
  {
   "cell_type": "markdown",
   "metadata": {},
   "source": [
    "Results are all statistically significant except for the level 0.1.\n",
    "\n",
    "This means that a discount of 10% on average doesn't have any impact on the quantity sold compared to not applying the discount.\n",
    "\n",
    "We advice so, to use a 5% discount instead, d Cohen's for 5% discount results being the one with the highest effect size, moreover smaller leave us more profit but still does have an  higher impact on quantity sold compared to the 10%, or to apply an higher discount level to try to increase the quantity sold."
   ]
  },
  {
   "cell_type": "markdown",
   "metadata": {},
   "source": [
    "# Check statistically significant difference at different levels of discount"
   ]
  },
  {
   "cell_type": "markdown",
   "metadata": {},
   "source": [
    "# Defining Null and Alternative Hipotheses\n",
    "\n",
    "Considering that we wanna observe if the quantity sold discounted is greater than the quantity sold not discounted we'll perform a **_One Tail Test_**.\n",
    "\n",
    "**H_null** = there is no statistically difference between discounts\n",
    "\n",
    "**H_alt** =  there is statistically difference between discounts\n",
    "\n",
    "Alpha level: 0.05"
   ]
  },
  {
   "cell_type": "code",
   "execution_count": 26,
   "metadata": {},
   "outputs": [
    {
     "name": "stdout",
     "output_type": "stream",
     "text": [
      "Discount: 5.0% and 10.0%, p-value: 0.25576752160380695,  d: 0.11755232870607792\n",
      "Discount: 5.0% and 15.0%, p-value: 0.639830153301604,  d: 0.04734246233079715\n",
      "Discount: 5.0% and 20.0%, p-value: 0.8579967042318546,  d: 0.017755780684653263\n",
      "Discount: 5.0% and 25.0%, p-value: 0.5948065678843857,  d: 0.05328623381918332\n",
      "Discount: 10.0% and 15.0%, p-value: 0.45459677835538914,  d: -0.07963621479973648\n",
      "Discount: 10.0% and 20.0%, p-value: 0.33029397253569537,  d: -0.10192625578530146\n",
      "Discount: 10.0% and 25.0%, p-value: 0.4821959796432913,  d: -0.07417670900558068\n",
      "Discount: 15.0% and 20.0%, p-value: 0.7755300970624632,  d: -0.029219731214445984\n",
      "Discount: 15.0% and 25.0%, p-value: 0.951085415829296,  d: 0.006340926579426986\n",
      "Discount: 20.0% and 25.0%, p-value: 0.7285682431691355,  d: 0.035221717744423016\n"
     ]
    }
   ],
   "source": [
    "\n",
    "comb = itertools.combinations(discounts, 2)\n",
    "\n",
    "for x in comb:\n",
    "    \n",
    "    contr = df[df['Discount']==x[0]]['Quantity']\n",
    "    exp = df[df['Discount']==x[1]]['Quantity']\n",
    "    \n",
    "    st, p = stats.ttest_ind(contr, exp)\n",
    "    d = Cohen_d(contr, exp)\n",
    "    \n",
    "    print(f'Discount: {str(x[0]*100)}% and {str(x[1]*100)}%, p-value: {p},  d: {d}')"
   ]
  },
  {
   "cell_type": "markdown",
   "metadata": {},
   "source": [
    "Results, as we can see from the p-value, are all not statistically significant.\n",
    "\n",
    "This means that we failed to reject the null hypothesis.\n",
    "\n",
    "We advice the management build their strategies taking in consideration the presence or not of the discount instead of a comparison between different levels of discount."
   ]
  },
  {
   "cell_type": "markdown",
   "metadata": {},
   "source": [
    "# 2nd Question"
   ]
  },
  {
   "cell_type": "markdown",
   "metadata": {},
   "source": [
    "### Is it December, considering the Christmas time period in it, the month with the highest revenue?"
   ]
  },
  {
   "cell_type": "markdown",
   "metadata": {},
   "source": [
    "# Defining Null and Alternative Hipothesis"
   ]
  },
  {
   "cell_type": "markdown",
   "metadata": {},
   "source": [
    "Considering that we wanna observe if the Revenue in December is greater than the other months we'll perform a **_One Tail Test_**."
   ]
  },
  {
   "cell_type": "markdown",
   "metadata": {},
   "source": [
    "**H_null** = Revenue for December <= Revenue other month\n",
    "\n",
    "**H_alt** =  Revenue for December > Revenue other month\n",
    "\n",
    "Alpha level = 0.05"
   ]
  },
  {
   "cell_type": "markdown",
   "metadata": {},
   "source": [
    "We start querying our database to get info about Revenue and Date."
   ]
  },
  {
   "cell_type": "code",
   "execution_count": 27,
   "metadata": {},
   "outputs": [
    {
     "data": {
      "text/html": [
       "<div>\n",
       "<style scoped>\n",
       "    .dataframe tbody tr th:only-of-type {\n",
       "        vertical-align: middle;\n",
       "    }\n",
       "\n",
       "    .dataframe tbody tr th {\n",
       "        vertical-align: top;\n",
       "    }\n",
       "\n",
       "    .dataframe thead th {\n",
       "        text-align: right;\n",
       "    }\n",
       "</style>\n",
       "<table border=\"1\" class=\"dataframe\">\n",
       "  <thead>\n",
       "    <tr style=\"text-align: right;\">\n",
       "      <th></th>\n",
       "      <th>ProductId</th>\n",
       "      <th>ProductName</th>\n",
       "      <th>UnitPrice</th>\n",
       "      <th>Quantity</th>\n",
       "      <th>Discount</th>\n",
       "      <th>Revenue</th>\n",
       "    </tr>\n",
       "  </thead>\n",
       "  <tbody>\n",
       "    <tr>\n",
       "      <th>0</th>\n",
       "      <td>1</td>\n",
       "      <td>Chai</td>\n",
       "      <td>18.0</td>\n",
       "      <td>2</td>\n",
       "      <td>0.00</td>\n",
       "      <td>36.0</td>\n",
       "    </tr>\n",
       "    <tr>\n",
       "      <th>1</th>\n",
       "      <td>1</td>\n",
       "      <td>Chai</td>\n",
       "      <td>18.0</td>\n",
       "      <td>3</td>\n",
       "      <td>0.00</td>\n",
       "      <td>54.0</td>\n",
       "    </tr>\n",
       "    <tr>\n",
       "      <th>2</th>\n",
       "      <td>1</td>\n",
       "      <td>Chai</td>\n",
       "      <td>18.0</td>\n",
       "      <td>4</td>\n",
       "      <td>0.00</td>\n",
       "      <td>72.0</td>\n",
       "    </tr>\n",
       "    <tr>\n",
       "      <th>3</th>\n",
       "      <td>1</td>\n",
       "      <td>Chai</td>\n",
       "      <td>18.0</td>\n",
       "      <td>4</td>\n",
       "      <td>0.25</td>\n",
       "      <td>72.0</td>\n",
       "    </tr>\n",
       "    <tr>\n",
       "      <th>4</th>\n",
       "      <td>1</td>\n",
       "      <td>Chai</td>\n",
       "      <td>18.0</td>\n",
       "      <td>5</td>\n",
       "      <td>0.20</td>\n",
       "      <td>90.0</td>\n",
       "    </tr>\n",
       "  </tbody>\n",
       "</table>\n",
       "</div>"
      ],
      "text/plain": [
       "   ProductId ProductName  UnitPrice  Quantity  Discount  Revenue\n",
       "0          1        Chai       18.0         2      0.00     36.0\n",
       "1          1        Chai       18.0         3      0.00     54.0\n",
       "2          1        Chai       18.0         4      0.00     72.0\n",
       "3          1        Chai       18.0         4      0.25     72.0\n",
       "4          1        Chai       18.0         5      0.20     90.0"
      ]
     },
     "execution_count": 27,
     "metadata": {},
     "output_type": "execute_result"
    }
   ],
   "source": [
    "cur.execute(\"\"\"SELECT ProductID, ProductName, UnitPrice, Quantity, Discount, Unitprice*quantity as Revenue\n",
    "               FROM Product\n",
    "               JOIN OrderDetail\n",
    "               USING(UnitPrice)\n",
    "               \"\"\")\n",
    "df_rev = pd.DataFrame(cur.fetchall()) #Take results and create dataframe\n",
    "df_rev.columns = [i[0] for i in cur.description]\n",
    "df_rev.head()"
   ]
  },
  {
   "cell_type": "markdown",
   "metadata": {},
   "source": [
    "Datetime is a usefull method that gives us several options to work with the date."
   ]
  },
  {
   "cell_type": "markdown",
   "metadata": {},
   "source": [
    "In this case we want to get the specific month and use it later combined with the Revenue."
   ]
  },
  {
   "cell_type": "code",
   "execution_count": 28,
   "metadata": {},
   "outputs": [
    {
     "data": {
      "text/html": [
       "<div>\n",
       "<style scoped>\n",
       "    .dataframe tbody tr th:only-of-type {\n",
       "        vertical-align: middle;\n",
       "    }\n",
       "\n",
       "    .dataframe tbody tr th {\n",
       "        vertical-align: top;\n",
       "    }\n",
       "\n",
       "    .dataframe thead th {\n",
       "        text-align: right;\n",
       "    }\n",
       "</style>\n",
       "<table border=\"1\" class=\"dataframe\">\n",
       "  <thead>\n",
       "    <tr style=\"text-align: right;\">\n",
       "      <th></th>\n",
       "      <th>OrderDate</th>\n",
       "    </tr>\n",
       "  </thead>\n",
       "  <tbody>\n",
       "    <tr>\n",
       "      <th>0</th>\n",
       "      <td>2012-07-04</td>\n",
       "    </tr>\n",
       "    <tr>\n",
       "      <th>1</th>\n",
       "      <td>2012-07-05</td>\n",
       "    </tr>\n",
       "    <tr>\n",
       "      <th>2</th>\n",
       "      <td>2012-07-08</td>\n",
       "    </tr>\n",
       "    <tr>\n",
       "      <th>3</th>\n",
       "      <td>2012-07-08</td>\n",
       "    </tr>\n",
       "    <tr>\n",
       "      <th>4</th>\n",
       "      <td>2012-07-09</td>\n",
       "    </tr>\n",
       "  </tbody>\n",
       "</table>\n",
       "</div>"
      ],
      "text/plain": [
       "    OrderDate\n",
       "0  2012-07-04\n",
       "1  2012-07-05\n",
       "2  2012-07-08\n",
       "3  2012-07-08\n",
       "4  2012-07-09"
      ]
     },
     "execution_count": 28,
     "metadata": {},
     "output_type": "execute_result"
    }
   ],
   "source": [
    "cur.execute(\"\"\"SELECT OrderDate\n",
    "               FROM [order]\n",
    "               \"\"\")\n",
    "df = pd.DataFrame(cur.fetchall()) #Take results and create dataframe\n",
    "df.columns = [i[0] for i in cur.description]\n",
    "df.head()"
   ]
  },
  {
   "cell_type": "code",
   "execution_count": 29,
   "metadata": {},
   "outputs": [
    {
     "data": {
      "text/plain": [
       "0    7\n",
       "1    7\n",
       "2    7\n",
       "3    7\n",
       "4    7\n",
       "Name: OrderDate, dtype: int64"
      ]
     },
     "execution_count": 29,
     "metadata": {},
     "output_type": "execute_result"
    }
   ],
   "source": [
    "df['OrderDate'] = pd.to_datetime(df['OrderDate'])\n",
    "df['OrderDate']= df['OrderDate'].dt.month\n",
    "df['OrderDate'].head()"
   ]
  },
  {
   "cell_type": "code",
   "execution_count": 30,
   "metadata": {},
   "outputs": [
    {
     "data": {
      "text/html": [
       "<div>\n",
       "<style scoped>\n",
       "    .dataframe tbody tr th:only-of-type {\n",
       "        vertical-align: middle;\n",
       "    }\n",
       "\n",
       "    .dataframe tbody tr th {\n",
       "        vertical-align: top;\n",
       "    }\n",
       "\n",
       "    .dataframe thead th {\n",
       "        text-align: right;\n",
       "    }\n",
       "</style>\n",
       "<table border=\"1\" class=\"dataframe\">\n",
       "  <thead>\n",
       "    <tr style=\"text-align: right;\">\n",
       "      <th></th>\n",
       "      <th>ProductId</th>\n",
       "      <th>ProductName</th>\n",
       "      <th>UnitPrice</th>\n",
       "      <th>Quantity</th>\n",
       "      <th>Discount</th>\n",
       "      <th>Revenue</th>\n",
       "      <th>OrderDate</th>\n",
       "    </tr>\n",
       "  </thead>\n",
       "  <tbody>\n",
       "    <tr>\n",
       "      <th>0</th>\n",
       "      <td>1</td>\n",
       "      <td>Chai</td>\n",
       "      <td>18.0</td>\n",
       "      <td>2</td>\n",
       "      <td>0.00</td>\n",
       "      <td>36.0</td>\n",
       "      <td>7.0</td>\n",
       "    </tr>\n",
       "    <tr>\n",
       "      <th>1</th>\n",
       "      <td>1</td>\n",
       "      <td>Chai</td>\n",
       "      <td>18.0</td>\n",
       "      <td>3</td>\n",
       "      <td>0.00</td>\n",
       "      <td>54.0</td>\n",
       "      <td>7.0</td>\n",
       "    </tr>\n",
       "    <tr>\n",
       "      <th>2</th>\n",
       "      <td>1</td>\n",
       "      <td>Chai</td>\n",
       "      <td>18.0</td>\n",
       "      <td>4</td>\n",
       "      <td>0.00</td>\n",
       "      <td>72.0</td>\n",
       "      <td>7.0</td>\n",
       "    </tr>\n",
       "    <tr>\n",
       "      <th>3</th>\n",
       "      <td>1</td>\n",
       "      <td>Chai</td>\n",
       "      <td>18.0</td>\n",
       "      <td>4</td>\n",
       "      <td>0.25</td>\n",
       "      <td>72.0</td>\n",
       "      <td>7.0</td>\n",
       "    </tr>\n",
       "    <tr>\n",
       "      <th>4</th>\n",
       "      <td>1</td>\n",
       "      <td>Chai</td>\n",
       "      <td>18.0</td>\n",
       "      <td>5</td>\n",
       "      <td>0.20</td>\n",
       "      <td>90.0</td>\n",
       "      <td>7.0</td>\n",
       "    </tr>\n",
       "  </tbody>\n",
       "</table>\n",
       "</div>"
      ],
      "text/plain": [
       "   ProductId ProductName  UnitPrice  Quantity  Discount  Revenue  OrderDate\n",
       "0          1        Chai       18.0         2      0.00     36.0        7.0\n",
       "1          1        Chai       18.0         3      0.00     54.0        7.0\n",
       "2          1        Chai       18.0         4      0.00     72.0        7.0\n",
       "3          1        Chai       18.0         4      0.25     72.0        7.0\n",
       "4          1        Chai       18.0         5      0.20     90.0        7.0"
      ]
     },
     "execution_count": 30,
     "metadata": {},
     "output_type": "execute_result"
    }
   ],
   "source": [
    "result = pd.concat([df_rev, df['OrderDate']], axis=1)\n",
    "result.head()"
   ]
  },
  {
   "cell_type": "markdown",
   "metadata": {},
   "source": [
    "Let's plot our mean Revenue grouped by the month to get a first understand of the trend."
   ]
  },
  {
   "cell_type": "code",
   "execution_count": 31,
   "metadata": {},
   "outputs": [
    {
     "data": {
      "image/png": "[encoded data removed]",
      "text/plain": [
       "<Figure size 864x576 with 1 Axes>"
      ]
     },
     "metadata": {},
     "output_type": "display_data"
    }
   ],
   "source": [
    "sns.set(style=\"whitegrid\")\n",
    "date_new_plot = result.groupby('OrderDate')['Revenue'].mean().plot(kind = 'line', figsize = (12,8), label = 'Revenue/Month')\n",
    "date_new_plot.set_xlabel(\"Months\", fontsize = 24)\n",
    "date_new_plot.set_ylabel(\"Average Revenue\", fontsize = 20)\n",
    "plt.legend(fontsize = 18)\n",
    "plt.title('Revenue by Month', fontsize = 24)\n",
    "plt.xticks(range(1,13), ['Jan', 'Feb', 'Mar', 'Apr', 'May', 'Jun', 'Jul', 'Aug', 'Sep', 'Oct', 'Nov', 'Dec'], fontsize = 16);"
   ]
  },
  {
   "cell_type": "markdown",
   "metadata": {},
   "source": [
    "That's interesting, because as we thought during December we've got an high Revenue peak due to the Christmas, but as we can see May results having the highest peak followed by August.\n",
    "\n",
    "Let's further investigate using a Welch's Test. "
   ]
  },
  {
   "cell_type": "markdown",
   "metadata": {},
   "source": [
    "We assign to OrderDate 12 defining it as Revenue for the month of December."
   ]
  },
  {
   "cell_type": "code",
   "execution_count": 32,
   "metadata": {},
   "outputs": [
    {
     "data": {
      "text/plain": [
       "121    380.0\n",
       "122    380.0\n",
       "123    380.0\n",
       "124    399.0\n",
       "125    456.0\n",
       "Name: Revenue, dtype: float64"
      ]
     },
     "execution_count": 32,
     "metadata": {},
     "output_type": "execute_result"
    }
   ],
   "source": [
    "rev_dec = result[result['OrderDate'] == 12]['Revenue']\n",
    "rev_dec.head()"
   ]
  },
  {
   "cell_type": "code",
   "execution_count": 33,
   "metadata": {},
   "outputs": [
    {
     "data": {
      "text/html": [
       "<div>\n",
       "<style scoped>\n",
       "    .dataframe tbody tr th:only-of-type {\n",
       "        vertical-align: middle;\n",
       "    }\n",
       "\n",
       "    .dataframe tbody tr th {\n",
       "        vertical-align: top;\n",
       "    }\n",
       "\n",
       "    .dataframe thead th {\n",
       "        text-align: right;\n",
       "    }\n",
       "</style>\n",
       "<table border=\"1\" class=\"dataframe\">\n",
       "  <thead>\n",
       "    <tr style=\"text-align: right;\">\n",
       "      <th></th>\n",
       "      <th>Month</th>\n",
       "      <th>P-value</th>\n",
       "      <th>Null Hypothesis</th>\n",
       "      <th>Cohens d</th>\n",
       "    </tr>\n",
       "  </thead>\n",
       "  <tbody>\n",
       "    <tr>\n",
       "      <th>4</th>\n",
       "      <td>5</td>\n",
       "      <td>2.587298e-01</td>\n",
       "      <td>Failed</td>\n",
       "      <td>0.210380</td>\n",
       "    </tr>\n",
       "    <tr>\n",
       "      <th>7</th>\n",
       "      <td>8</td>\n",
       "      <td>7.235247e-01</td>\n",
       "      <td>Failed</td>\n",
       "      <td>0.061308</td>\n",
       "    </tr>\n",
       "    <tr>\n",
       "      <th>5</th>\n",
       "      <td>6</td>\n",
       "      <td>5.983209e-01</td>\n",
       "      <td>Failed</td>\n",
       "      <td>-0.113364</td>\n",
       "    </tr>\n",
       "    <tr>\n",
       "      <th>3</th>\n",
       "      <td>4</td>\n",
       "      <td>2.030295e-01</td>\n",
       "      <td>Failed</td>\n",
       "      <td>-0.190250</td>\n",
       "    </tr>\n",
       "    <tr>\n",
       "      <th>10</th>\n",
       "      <td>11</td>\n",
       "      <td>1.838974e-01</td>\n",
       "      <td>Failed</td>\n",
       "      <td>-0.229959</td>\n",
       "    </tr>\n",
       "    <tr>\n",
       "      <th>6</th>\n",
       "      <td>7</td>\n",
       "      <td>3.153316e-02</td>\n",
       "      <td>Reject</td>\n",
       "      <td>-0.381989</td>\n",
       "    </tr>\n",
       "    <tr>\n",
       "      <th>0</th>\n",
       "      <td>1</td>\n",
       "      <td>8.368373e-03</td>\n",
       "      <td>Reject</td>\n",
       "      <td>-0.413633</td>\n",
       "    </tr>\n",
       "    <tr>\n",
       "      <th>9</th>\n",
       "      <td>10</td>\n",
       "      <td>4.994054e-03</td>\n",
       "      <td>Reject</td>\n",
       "      <td>-0.479868</td>\n",
       "    </tr>\n",
       "    <tr>\n",
       "      <th>8</th>\n",
       "      <td>9</td>\n",
       "      <td>3.410447e-04</td>\n",
       "      <td>Reject</td>\n",
       "      <td>-0.629506</td>\n",
       "    </tr>\n",
       "    <tr>\n",
       "      <th>1</th>\n",
       "      <td>2</td>\n",
       "      <td>6.892920e-06</td>\n",
       "      <td>Reject</td>\n",
       "      <td>-0.730884</td>\n",
       "    </tr>\n",
       "    <tr>\n",
       "      <th>2</th>\n",
       "      <td>3</td>\n",
       "      <td>2.164679e-07</td>\n",
       "      <td>Reject</td>\n",
       "      <td>-0.805945</td>\n",
       "    </tr>\n",
       "  </tbody>\n",
       "</table>\n",
       "</div>"
      ],
      "text/plain": [
       "   Month       P-value Null Hypothesis  Cohens d\n",
       "4      5  2.587298e-01          Failed  0.210380\n",
       "7      8  7.235247e-01          Failed  0.061308\n",
       "5      6  5.983209e-01          Failed -0.113364\n",
       "3      4  2.030295e-01          Failed -0.190250\n",
       "10    11  1.838974e-01          Failed -0.229959\n",
       "6      7  3.153316e-02          Reject -0.381989\n",
       "0      1  8.368373e-03          Reject -0.413633\n",
       "9     10  4.994054e-03          Reject -0.479868\n",
       "8      9  3.410447e-04          Reject -0.629506\n",
       "1      2  6.892920e-06          Reject -0.730884\n",
       "2      3  2.164679e-07          Reject -0.805945"
      ]
     },
     "execution_count": 33,
     "metadata": {},
     "output_type": "execute_result"
    }
   ],
   "source": [
    "months_no_dec = np.array([1,2,3,4,5,6,7,8,9,10,11])\n",
    "\n",
    "month_revenue = pd.DataFrame(columns=['Month', 'P-value', 'Null Hypothesis','Cohens d'], index=None)\n",
    "\n",
    "dec = result[result['OrderDate'] == 12]['Revenue']\n",
    "\n",
    "for i in months_no_dec:\n",
    "    no_dec = result[result['OrderDate'] == i]['Revenue']\n",
    "    \n",
    "    st, p = stats.ttest_ind(dec, no_dec)\n",
    "    d = Cohen_d(no_dec, dec)\n",
    "    \n",
    "    month_revenue = month_revenue.append( { 'Month' :  i, 'P-value' : p, 'Null Hypothesis' : 'Reject' if p < 0.05 else 'Failed', 'Cohens d' : d } , ignore_index=True)    \n",
    "\n",
    "month_revenue.sort_values('Cohens d', ascending=False)"
   ]
  },
  {
   "cell_type": "markdown",
   "metadata": {},
   "source": [
    "As we can see we failed to reject our hyphotheses for April, May, June, August and November.\n",
    "\n",
    "This means that our Revenue is actually higher on these months compared to December.\n",
    "\n",
    "Our advice is to focus our product strategies during these months, May furthermore gives us the highest effect size.\n",
    "\n",
    "In fact could probably be more difficult trying to increase the overall Revenue during December, being the potential competition much higher and obstinate."
   ]
  },
  {
   "cell_type": "markdown",
   "metadata": {},
   "source": [
    "# 3rd Question"
   ]
  },
  {
   "cell_type": "markdown",
   "metadata": {},
   "source": [
    "### Does discount amount have a statistically significant effect on the revenue of a product in an order? If so, at what level(s) of discount?"
   ]
  },
  {
   "cell_type": "markdown",
   "metadata": {},
   "source": [
    "# Defining Null and Alternative Hipothesis"
   ]
  },
  {
   "cell_type": "markdown",
   "metadata": {},
   "source": [
    "Considering that we wanna observe if the quantity sold discounted is greater than the quantity sold not discounted we'll perform a **_One Tail Test_**."
   ]
  },
  {
   "cell_type": "markdown",
   "metadata": {},
   "source": [
    "**H_null** = Revenue with discount <= Revenue without discount\n",
    "\n",
    "**H_alt** =  Revenue with discount > Revenue without discount\n",
    "\n",
    "Alpha level = 0.05"
   ]
  },
  {
   "cell_type": "markdown",
   "metadata": {},
   "source": [
    "I decided to take the first question but to check this time the effect of different levels of discount on the Revenue.\n",
    "The reason is that I'm more interested on the overall amount of income generated from a possible discount that on the amount."
   ]
  },
  {
   "cell_type": "code",
   "execution_count": 34,
   "metadata": {},
   "outputs": [
    {
     "data": {
      "text/html": [
       "<div>\n",
       "<style scoped>\n",
       "    .dataframe tbody tr th:only-of-type {\n",
       "        vertical-align: middle;\n",
       "    }\n",
       "\n",
       "    .dataframe tbody tr th {\n",
       "        vertical-align: top;\n",
       "    }\n",
       "\n",
       "    .dataframe thead th {\n",
       "        text-align: right;\n",
       "    }\n",
       "</style>\n",
       "<table border=\"1\" class=\"dataframe\">\n",
       "  <thead>\n",
       "    <tr style=\"text-align: right;\">\n",
       "      <th></th>\n",
       "      <th>ProductId</th>\n",
       "      <th>ProductName</th>\n",
       "      <th>UnitPrice</th>\n",
       "      <th>Quantity</th>\n",
       "      <th>Discount</th>\n",
       "      <th>Revenue</th>\n",
       "    </tr>\n",
       "  </thead>\n",
       "  <tbody>\n",
       "    <tr>\n",
       "      <th>0</th>\n",
       "      <td>1</td>\n",
       "      <td>Chai</td>\n",
       "      <td>18.0</td>\n",
       "      <td>2</td>\n",
       "      <td>0.00</td>\n",
       "      <td>36.0</td>\n",
       "    </tr>\n",
       "    <tr>\n",
       "      <th>1</th>\n",
       "      <td>1</td>\n",
       "      <td>Chai</td>\n",
       "      <td>18.0</td>\n",
       "      <td>3</td>\n",
       "      <td>0.00</td>\n",
       "      <td>54.0</td>\n",
       "    </tr>\n",
       "    <tr>\n",
       "      <th>2</th>\n",
       "      <td>1</td>\n",
       "      <td>Chai</td>\n",
       "      <td>18.0</td>\n",
       "      <td>4</td>\n",
       "      <td>0.00</td>\n",
       "      <td>72.0</td>\n",
       "    </tr>\n",
       "    <tr>\n",
       "      <th>3</th>\n",
       "      <td>1</td>\n",
       "      <td>Chai</td>\n",
       "      <td>18.0</td>\n",
       "      <td>4</td>\n",
       "      <td>0.25</td>\n",
       "      <td>72.0</td>\n",
       "    </tr>\n",
       "    <tr>\n",
       "      <th>4</th>\n",
       "      <td>1</td>\n",
       "      <td>Chai</td>\n",
       "      <td>18.0</td>\n",
       "      <td>5</td>\n",
       "      <td>0.20</td>\n",
       "      <td>90.0</td>\n",
       "    </tr>\n",
       "  </tbody>\n",
       "</table>\n",
       "</div>"
      ],
      "text/plain": [
       "   ProductId ProductName  UnitPrice  Quantity  Discount  Revenue\n",
       "0          1        Chai       18.0         2      0.00     36.0\n",
       "1          1        Chai       18.0         3      0.00     54.0\n",
       "2          1        Chai       18.0         4      0.00     72.0\n",
       "3          1        Chai       18.0         4      0.25     72.0\n",
       "4          1        Chai       18.0         5      0.20     90.0"
      ]
     },
     "execution_count": 34,
     "metadata": {},
     "output_type": "execute_result"
    }
   ],
   "source": [
    "cur.execute(\"\"\"SELECT ProductID, ProductName, UnitPrice, Quantity, Discount, Unitprice*quantity as Revenue\n",
    "               FROM Product\n",
    "               JOIN OrderDetail\n",
    "               USING(UnitPrice)\n",
    "               \"\"\")\n",
    "df = pd.DataFrame(cur.fetchall()) #Take results and create dataframe\n",
    "df.columns = [i[0] for i in cur.description]\n",
    "df.head()"
   ]
  },
  {
   "cell_type": "code",
   "execution_count": 35,
   "metadata": {},
   "outputs": [
    {
     "data": {
      "text/plain": [
       "ProductId\n",
       "1    501.230769\n",
       "2    461.588235\n",
       "3    200.000000\n",
       "4    679.250000\n",
       "5    567.437500\n",
       "Name: Revenue, dtype: float64"
      ]
     },
     "execution_count": 35,
     "metadata": {},
     "output_type": "execute_result"
    }
   ],
   "source": [
    "rev_disc = df[df['Discount'] != 0].groupby('ProductId')['Revenue'].mean()\n",
    "rev_disc.head()"
   ]
  },
  {
   "cell_type": "code",
   "execution_count": 36,
   "metadata": {},
   "outputs": [
    {
     "data": {
      "text/plain": [
       "ProductId\n",
       "1    328.500000\n",
       "2    329.785714\n",
       "3    260.000000\n",
       "4    304.333333\n",
       "5    588.566667\n",
       "Name: Revenue, dtype: float64"
      ]
     },
     "execution_count": 36,
     "metadata": {},
     "output_type": "execute_result"
    }
   ],
   "source": [
    "rev_no_disc = df[df['Discount'] == 0].groupby('ProductId')['Revenue'].mean()\n",
    "rev_no_disc.head()"
   ]
  },
  {
   "cell_type": "code",
   "execution_count": 37,
   "metadata": {},
   "outputs": [
    {
     "data": {
      "image/png": "[encoded data removed]",
      "text/plain": [
       "<Figure size 864x576 with 1 Axes>"
      ]
     },
     "metadata": {},
     "output_type": "display_data"
    }
   ],
   "source": [
    "plt.style.use('ggplot')\n",
    "plt.figure(figsize=(12,8))\n",
    "sns.distplot(rev_disc, label = 'Revenue with Discount')\n",
    "sns.distplot(rev_no_disc, label = 'Revenue without Discount')\n",
    "plt.title('Comparison quantity products sold with or without discount', fontsize = 24)\n",
    "plt.xlabel('Revenue', fontsize = 18)\n",
    "plt.ylabel('Frequency', fontsize = 18)\n",
    "plt.legend(fontsize = 18)\n",
    "plt.show()"
   ]
  },
  {
   "cell_type": "code",
   "execution_count": 38,
   "metadata": {},
   "outputs": [],
   "source": [
    "rev_disc = df[df['Discount'] != 0]['Revenue']"
   ]
  },
  {
   "cell_type": "code",
   "execution_count": 39,
   "metadata": {},
   "outputs": [],
   "source": [
    "rev_no_disc = df[df['Discount'] == 0]['Revenue']"
   ]
  },
  {
   "cell_type": "code",
   "execution_count": 40,
   "metadata": {},
   "outputs": [
    {
     "data": {
      "text/plain": [
       "Ttest_indResult(statistic=2.522313457974173, pvalue=0.011737325507467939)"
      ]
     },
     "execution_count": 40,
     "metadata": {},
     "output_type": "execute_result"
    }
   ],
   "source": [
    "stats.ttest_ind(rev_disc, rev_no_disc, equal_var= False)"
   ]
  },
  {
   "cell_type": "markdown",
   "metadata": {},
   "source": [
    "As we can see from the result of our test we reject our null hypothesis and accept the alternative.\n",
    "Discount product increases the Revenue."
   ]
  },
  {
   "cell_type": "markdown",
   "metadata": {},
   "source": [
    "# Effect Size"
   ]
  },
  {
   "cell_type": "code",
   "execution_count": 41,
   "metadata": {},
   "outputs": [
    {
     "data": {
      "text/plain": [
       "0.10564117110264203"
      ]
     },
     "execution_count": 41,
     "metadata": {},
     "output_type": "execute_result"
    }
   ],
   "source": [
    "Cohen_d(rev_disc, rev_no_disc)"
   ]
  },
  {
   "cell_type": "markdown",
   "metadata": {},
   "source": [
    "As we can see from the d result obtained the effect size of 0.1 result being almost null."
   ]
  },
  {
   "cell_type": "markdown",
   "metadata": {},
   "source": [
    "# Check statistically significant difference with and without discount"
   ]
  },
  {
   "cell_type": "markdown",
   "metadata": {},
   "source": [
    "# Defining Null and Alternative Hipotheses\n",
    "\n",
    "Considering that we wanna observe if the quantity sold discounted is greater than the quantity sold not discounted we'll perform a **_One Tail Test_**.\n",
    "\n",
    "**H_null** = Revenue with discount <= Revenue without discount\n",
    "\n",
    "**H_alt** =  Revenue with discount > Revenue without discount\n",
    "\n",
    "Alpha level = 0.05"
   ]
  },
  {
   "cell_type": "markdown",
   "metadata": {},
   "source": [
    "Let's now check if different levels of discount are affecting the Revenue and how."
   ]
  },
  {
   "cell_type": "code",
   "execution_count": 42,
   "metadata": {},
   "outputs": [
    {
     "data": {
      "text/plain": [
       "0.00    1497\n",
       "0.05     209\n",
       "0.20     198\n",
       "0.25     191\n",
       "0.15     184\n",
       "0.10     170\n",
       "0.03       3\n",
       "0.01       2\n",
       "0.02       2\n",
       "0.04       1\n",
       "0.06       1\n",
       "Name: Discount, dtype: int64"
      ]
     },
     "execution_count": 42,
     "metadata": {},
     "output_type": "execute_result"
    }
   ],
   "source": [
    "disc = df['Discount'].value_counts()\n",
    "disc"
   ]
  },
  {
   "cell_type": "markdown",
   "metadata": {},
   "source": [
    "From our value_counts method comes out that few levels of discount are applied in very small quantities.\n",
    "We decide so to take in consideration just the ones where the quantity level is decent for a comparison."
   ]
  },
  {
   "cell_type": "code",
   "execution_count": 43,
   "metadata": {
    "scrolled": true
   },
   "outputs": [
    {
     "name": "stdout",
     "output_type": "stream",
     "text": [
      "p-value: 0.026181170332631516,  discount: 0.05, d: 0.23499878203686098\n",
      "p-value: 0.8749201423474035,  discount: 0.1, d: 0.009876965503309925\n",
      "p-value: 0.24687332455838845,  discount: 0.15, d: 0.06549314253400994\n",
      "p-value: 0.8130787365105839,  discount: 0.2, d: 0.011927193415529289\n",
      "p-value: 0.02698331079119023,  discount: 0.25, d: 0.20174050632526866\n"
     ]
    }
   ],
   "source": [
    "rev_no_disc = df[df['Discount']==0]['Revenue']\n",
    "\n",
    "for x in ([ 0.05, 0.1, 0.15, 0.2, 0.25]):\n",
    "    \n",
    "    rev_disc = df[df['Discount']==x]['Revenue']\n",
    "    st, p = stats.ttest_ind(rev_disc, rev_no_disc, equal_var= False)\n",
    "    d = Cohen_d(rev_disc, rev_no_disc)\n",
    "    print(f'p-value: {p},  discount: {x}, d: {d}' )"
   ]
  },
  {
   "cell_type": "markdown",
   "metadata": {},
   "source": [
    "Results are not statistically significant for the levels 0.1, 0.15 and 0.2.\n",
    "\n",
    "This means that a discount of 10%, 15% and 20% on average doesn't have any impact on the Revenue for the product sold compared to not applying the discount.\n",
    "\n",
    "We advice so, to use a 5% discount instead, that being smaller leave us more profit but still does have an  higher impact on Revenue, considering also the highest effect  size, compared to the 10%, 15% an 20% or to apply a 25% discount level to try to increase the total Revenue."
   ]
  },
  {
   "cell_type": "markdown",
   "metadata": {},
   "source": [
    "# Check statistically significant difference at different levels of discount"
   ]
  },
  {
   "cell_type": "markdown",
   "metadata": {},
   "source": [
    "# Defining Null and Alternative Hipotheses\n",
    "\n",
    "Considering that we wanna observe if the quantity sold discounted is greater than the quantity sold not discounted we'll perform a **_One Tail Test_**.\n",
    "\n",
    "**H_null** = there is no statistically difference in Revenue for different discounts\n",
    "\n",
    "**H_alt** =  there is statistically difference in Revenue for different discounts\n",
    "\n",
    "Alpha level: 0.05"
   ]
  },
  {
   "cell_type": "code",
   "execution_count": 44,
   "metadata": {},
   "outputs": [
    {
     "name": "stdout",
     "output_type": "stream",
     "text": [
      "Discount: 5.0% and 10.0%, p-value: 0.06517254303870261,  d: 0.1910483574305983\n",
      "Discount: 5.0% and 15.0%, p-value: 0.12964825499108507,  d: 0.15354387633774313\n",
      "Discount: 5.0% and 20.0%, p-value: 0.04420492874996164,  d: 0.2001832293108724\n",
      "Discount: 5.0% and 25.0%, p-value: 0.733129689733457,  d: 0.034156048076922844\n",
      "Discount: 10.0% and 15.0%, p-value: 0.4625311427899734,  d: -0.07824198801905095\n",
      "Discount: 10.0% and 20.0%, p-value: 0.9785841119668095,  d: -0.0028086098847953174\n",
      "Discount: 10.0% and 25.0%, p-value: 0.06860009157186063,  d: -0.19260786884600922\n",
      "Discount: 15.0% and 20.0%, p-value: 0.40933360021740195,  d: 0.08457743974149963\n",
      "Discount: 15.0% and 25.0%, p-value: 0.1613009261420234,  d: -0.14498176212939648\n",
      "Discount: 20.0% and 25.0%, p-value: 0.04458377029585462,  d: -0.20436750404800139\n"
     ]
    }
   ],
   "source": [
    "comb = itertools.combinations(discounts, 2)\n",
    "\n",
    "for x in comb:\n",
    "    \n",
    "    contr = df[df['Discount']==x[0]]['Revenue']\n",
    "    exp = df[df['Discount']==x[1]]['Revenue']\n",
    "    \n",
    "    st, p = stats.ttest_ind(contr, exp)\n",
    "    d = Cohen_d(contr, exp)\n",
    "    \n",
    "    print(f'Discount: {str(x[0]*100)}% and {str(x[1]*100)}%, p-value: {p},  d: {d}')"
   ]
  },
  {
   "cell_type": "markdown",
   "metadata": {},
   "source": [
    "We reject our null hypothesis for 5% and 20% discounts and 20% and 25% discounts.\n",
    "\n",
    "This means that there's statistical significant difference in terms of Revenue taking in consideration these 2 different levels of discount.\n",
    "\n",
    "Our advice is to focus our attention on 5% and 20% , the d Cohen's effect size is significantly higher and the possibly strategies leave us with a higher profit being on comparison 25% discount higher than these 2."
   ]
  },
  {
   "cell_type": "markdown",
   "metadata": {},
   "source": [
    "# 4th Question"
   ]
  },
  {
   "cell_type": "markdown",
   "metadata": {},
   "source": [
    "### There is a statistically significant difference on shipping time between different shipper companies?"
   ]
  },
  {
   "cell_type": "markdown",
   "metadata": {},
   "source": [
    "Let's check if the shipping companies are all equally efficient or not."
   ]
  },
  {
   "cell_type": "markdown",
   "metadata": {},
   "source": [
    "# Defining Null and Alternative Hipothesis\n",
    "\n",
    "Considering that we wanna observe if the time for the delivery sold discounted is greater than the quantity sold not discounted we'll perform a **_One Tail Test_**.\n",
    "\n",
    "**H_null** = there is no statistically difference beetwen different companies in terms of shipping time\n",
    "\n",
    "**H_alt** =  there is statistically difference beetwen different companies in terms of shipping time\n",
    "\n",
    "Alpha level: 0.05"
   ]
  },
  {
   "cell_type": "code",
   "execution_count": 45,
   "metadata": {},
   "outputs": [
    {
     "data": {
      "text/html": [
       "<div>\n",
       "<style scoped>\n",
       "    .dataframe tbody tr th:only-of-type {\n",
       "        vertical-align: middle;\n",
       "    }\n",
       "\n",
       "    .dataframe tbody tr th {\n",
       "        vertical-align: top;\n",
       "    }\n",
       "\n",
       "    .dataframe thead th {\n",
       "        text-align: right;\n",
       "    }\n",
       "</style>\n",
       "<table border=\"1\" class=\"dataframe\">\n",
       "  <thead>\n",
       "    <tr style=\"text-align: right;\">\n",
       "      <th></th>\n",
       "      <th>Id</th>\n",
       "      <th>CompanyName</th>\n",
       "      <th>Phone</th>\n",
       "    </tr>\n",
       "  </thead>\n",
       "  <tbody>\n",
       "    <tr>\n",
       "      <th>0</th>\n",
       "      <td>1</td>\n",
       "      <td>Speedy Express</td>\n",
       "      <td>(503) 555-9831</td>\n",
       "    </tr>\n",
       "    <tr>\n",
       "      <th>1</th>\n",
       "      <td>2</td>\n",
       "      <td>United Package</td>\n",
       "      <td>(503) 555-3199</td>\n",
       "    </tr>\n",
       "    <tr>\n",
       "      <th>2</th>\n",
       "      <td>3</td>\n",
       "      <td>Federal Shipping</td>\n",
       "      <td>(503) 555-9931</td>\n",
       "    </tr>\n",
       "  </tbody>\n",
       "</table>\n",
       "</div>"
      ],
      "text/plain": [
       "   Id       CompanyName           Phone\n",
       "0   1    Speedy Express  (503) 555-9831\n",
       "1   2    United Package  (503) 555-3199\n",
       "2   3  Federal Shipping  (503) 555-9931"
      ]
     },
     "execution_count": 45,
     "metadata": {},
     "output_type": "execute_result"
    }
   ],
   "source": [
    "cur.execute(\"\"\"SELECT *\n",
    "               FROM shipper\n",
    "               \"\"\")\n",
    "df = pd.DataFrame(cur.fetchall()) #Take results and create dataframe\n",
    "df.columns = [i[0] for i in cur.description]\n",
    "df.head()"
   ]
  },
  {
   "cell_type": "code",
   "execution_count": 46,
   "metadata": {},
   "outputs": [],
   "source": [
    "dates1 = pd.read_sql_query('''\n",
    "                            SELECT companyname, [order].Id, Quantity, UnitPrice, OrderDate, shippedDate, \n",
    "                            ShipCountry, Quantity*UnitPrice as Revenue\n",
    "                            \n",
    "                            FROM [order]\n",
    "                            JOIN orderdetail\n",
    "                            \n",
    "                            ON [Order].Id = orderdetail.orderid\n",
    "                            JOIN shipper\n",
    "                            ON shipper.id = [order].shipvia\n",
    "                            \n",
    "                        \n",
    "                            ''', conn)"
   ]
  },
  {
   "cell_type": "code",
   "execution_count": 47,
   "metadata": {},
   "outputs": [
    {
     "data": {
      "text/html": [
       "<div>\n",
       "<style scoped>\n",
       "    .dataframe tbody tr th:only-of-type {\n",
       "        vertical-align: middle;\n",
       "    }\n",
       "\n",
       "    .dataframe tbody tr th {\n",
       "        vertical-align: top;\n",
       "    }\n",
       "\n",
       "    .dataframe thead th {\n",
       "        text-align: right;\n",
       "    }\n",
       "</style>\n",
       "<table border=\"1\" class=\"dataframe\">\n",
       "  <thead>\n",
       "    <tr style=\"text-align: right;\">\n",
       "      <th></th>\n",
       "      <th>CompanyName</th>\n",
       "      <th>Id</th>\n",
       "      <th>Quantity</th>\n",
       "      <th>UnitPrice</th>\n",
       "      <th>OrderDate</th>\n",
       "      <th>ShippedDate</th>\n",
       "      <th>ShipCountry</th>\n",
       "      <th>Revenue</th>\n",
       "    </tr>\n",
       "  </thead>\n",
       "  <tbody>\n",
       "    <tr>\n",
       "      <th>0</th>\n",
       "      <td>Federal Shipping</td>\n",
       "      <td>10248</td>\n",
       "      <td>12</td>\n",
       "      <td>14.0</td>\n",
       "      <td>2012-07-04</td>\n",
       "      <td>2012-07-16</td>\n",
       "      <td>France</td>\n",
       "      <td>168.0</td>\n",
       "    </tr>\n",
       "    <tr>\n",
       "      <th>1</th>\n",
       "      <td>Federal Shipping</td>\n",
       "      <td>10248</td>\n",
       "      <td>10</td>\n",
       "      <td>9.8</td>\n",
       "      <td>2012-07-04</td>\n",
       "      <td>2012-07-16</td>\n",
       "      <td>France</td>\n",
       "      <td>98.0</td>\n",
       "    </tr>\n",
       "    <tr>\n",
       "      <th>2</th>\n",
       "      <td>Federal Shipping</td>\n",
       "      <td>10248</td>\n",
       "      <td>5</td>\n",
       "      <td>34.8</td>\n",
       "      <td>2012-07-04</td>\n",
       "      <td>2012-07-16</td>\n",
       "      <td>France</td>\n",
       "      <td>174.0</td>\n",
       "    </tr>\n",
       "    <tr>\n",
       "      <th>3</th>\n",
       "      <td>Speedy Express</td>\n",
       "      <td>10249</td>\n",
       "      <td>9</td>\n",
       "      <td>18.6</td>\n",
       "      <td>2012-07-05</td>\n",
       "      <td>2012-07-10</td>\n",
       "      <td>Germany</td>\n",
       "      <td>167.4</td>\n",
       "    </tr>\n",
       "    <tr>\n",
       "      <th>4</th>\n",
       "      <td>Speedy Express</td>\n",
       "      <td>10249</td>\n",
       "      <td>40</td>\n",
       "      <td>42.4</td>\n",
       "      <td>2012-07-05</td>\n",
       "      <td>2012-07-10</td>\n",
       "      <td>Germany</td>\n",
       "      <td>1696.0</td>\n",
       "    </tr>\n",
       "  </tbody>\n",
       "</table>\n",
       "</div>"
      ],
      "text/plain": [
       "        CompanyName     Id  Quantity  UnitPrice   OrderDate ShippedDate  \\\n",
       "0  Federal Shipping  10248        12       14.0  2012-07-04  2012-07-16   \n",
       "1  Federal Shipping  10248        10        9.8  2012-07-04  2012-07-16   \n",
       "2  Federal Shipping  10248         5       34.8  2012-07-04  2012-07-16   \n",
       "3    Speedy Express  10249         9       18.6  2012-07-05  2012-07-10   \n",
       "4    Speedy Express  10249        40       42.4  2012-07-05  2012-07-10   \n",
       "\n",
       "  ShipCountry  Revenue  \n",
       "0      France    168.0  \n",
       "1      France     98.0  \n",
       "2      France    174.0  \n",
       "3     Germany    167.4  \n",
       "4     Germany   1696.0  "
      ]
     },
     "execution_count": 47,
     "metadata": {},
     "output_type": "execute_result"
    }
   ],
   "source": [
    "dates1.head()"
   ]
  },
  {
   "cell_type": "code",
   "execution_count": 48,
   "metadata": {},
   "outputs": [
    {
     "data": {
      "text/plain": [
       "CompanyName     0\n",
       "Id              0\n",
       "Quantity        0\n",
       "UnitPrice       0\n",
       "OrderDate       0\n",
       "ShippedDate    73\n",
       "ShipCountry     0\n",
       "Revenue         0\n",
       "dtype: int64"
      ]
     },
     "execution_count": 48,
     "metadata": {},
     "output_type": "execute_result"
    }
   ],
   "source": [
    "dates1.isnull().sum()"
   ]
  },
  {
   "cell_type": "code",
   "execution_count": 49,
   "metadata": {},
   "outputs": [
    {
     "data": {
      "text/plain": [
       "CompanyName    0\n",
       "Id             0\n",
       "Quantity       0\n",
       "UnitPrice      0\n",
       "OrderDate      0\n",
       "ShippedDate    0\n",
       "ShipCountry    0\n",
       "Revenue        0\n",
       "dtype: int64"
      ]
     },
     "execution_count": 49,
     "metadata": {},
     "output_type": "execute_result"
    }
   ],
   "source": [
    "dates1.dropna(subset = ['ShippedDate'], inplace=True)\n",
    "dates1.isnull().sum()"
   ]
  },
  {
   "cell_type": "markdown",
   "metadata": {},
   "source": [
    "Through the code below we are going to measure the difference between 2 dates so that we can check the time that took to a company to complete a spedition."
   ]
  },
  {
   "cell_type": "code",
   "execution_count": 50,
   "metadata": {},
   "outputs": [],
   "source": [
    "from datetime import datetime\n",
    "date_format = \"%Y-%m-%d\"\n",
    "a = []\n",
    "b = []\n",
    "for x in dates1['OrderDate']:\n",
    "    a.append(datetime.strptime(x, date_format))\n",
    "for y in dates1['ShippedDate']:\n",
    "    b.append(datetime.strptime(y, date_format))"
   ]
  },
  {
   "cell_type": "code",
   "execution_count": 51,
   "metadata": {},
   "outputs": [],
   "source": [
    "a_arr = np.array(a)\n",
    "b_arr = np.array(b)"
   ]
  },
  {
   "cell_type": "code",
   "execution_count": 52,
   "metadata": {},
   "outputs": [
    {
     "data": {
      "text/plain": [
       "numpy.ndarray"
      ]
     },
     "execution_count": 52,
     "metadata": {},
     "output_type": "execute_result"
    }
   ],
   "source": [
    "time_ship = abs(a_arr - b_arr)\n",
    "type(time_ship)"
   ]
  },
  {
   "cell_type": "code",
   "execution_count": 53,
   "metadata": {},
   "outputs": [
    {
     "data": {
      "text/html": [
       "<div>\n",
       "<style scoped>\n",
       "    .dataframe tbody tr th:only-of-type {\n",
       "        vertical-align: middle;\n",
       "    }\n",
       "\n",
       "    .dataframe tbody tr th {\n",
       "        vertical-align: top;\n",
       "    }\n",
       "\n",
       "    .dataframe thead th {\n",
       "        text-align: right;\n",
       "    }\n",
       "</style>\n",
       "<table border=\"1\" class=\"dataframe\">\n",
       "  <thead>\n",
       "    <tr style=\"text-align: right;\">\n",
       "      <th></th>\n",
       "      <th>0</th>\n",
       "    </tr>\n",
       "  </thead>\n",
       "  <tbody>\n",
       "    <tr>\n",
       "      <th>0</th>\n",
       "      <td>12</td>\n",
       "    </tr>\n",
       "    <tr>\n",
       "      <th>1</th>\n",
       "      <td>12</td>\n",
       "    </tr>\n",
       "    <tr>\n",
       "      <th>2</th>\n",
       "      <td>12</td>\n",
       "    </tr>\n",
       "    <tr>\n",
       "      <th>3</th>\n",
       "      <td>5</td>\n",
       "    </tr>\n",
       "    <tr>\n",
       "      <th>4</th>\n",
       "      <td>5</td>\n",
       "    </tr>\n",
       "  </tbody>\n",
       "</table>\n",
       "</div>"
      ],
      "text/plain": [
       "    0\n",
       "0  12\n",
       "1  12\n",
       "2  12\n",
       "3   5\n",
       "4   5"
      ]
     },
     "execution_count": 53,
     "metadata": {},
     "output_type": "execute_result"
    }
   ],
   "source": [
    "x = pd.to_timedelta(time_ship)\n",
    "time_df = pd.DataFrame(x.days)\n",
    "time_df.head()"
   ]
  },
  {
   "cell_type": "code",
   "execution_count": 54,
   "metadata": {},
   "outputs": [
    {
     "data": {
      "text/plain": [
       "CompanyName     15\n",
       "Id              15\n",
       "Quantity        15\n",
       "UnitPrice       15\n",
       "OrderDate       15\n",
       "ShippedDate     15\n",
       "ShipCountry     15\n",
       "Revenue         15\n",
       "DaysDelivery    15\n",
       "dtype: int64"
      ]
     },
     "execution_count": 54,
     "metadata": {},
     "output_type": "execute_result"
    }
   ],
   "source": [
    "time_df.columns= ['DaysDelivery']\n",
    "result = pd.concat([dates1, time_df], axis=1)\n",
    "result.isnull().sum()"
   ]
  },
  {
   "cell_type": "code",
   "execution_count": 55,
   "metadata": {},
   "outputs": [
    {
     "data": {
      "text/plain": [
       "CompanyName     0\n",
       "Id              0\n",
       "Quantity        0\n",
       "UnitPrice       0\n",
       "OrderDate       0\n",
       "ShippedDate     0\n",
       "ShipCountry     0\n",
       "Revenue         0\n",
       "DaysDelivery    0\n",
       "dtype: int64"
      ]
     },
     "execution_count": 55,
     "metadata": {},
     "output_type": "execute_result"
    }
   ],
   "source": [
    "result.dropna(subset=['CompanyName'], inplace=True)\n",
    "result.dropna(subset=['DaysDelivery'], inplace=True)\n",
    "result.isnull().sum()"
   ]
  },
  {
   "cell_type": "code",
   "execution_count": 56,
   "metadata": {},
   "outputs": [
    {
     "data": {
      "text/html": [
       "<div>\n",
       "<style scoped>\n",
       "    .dataframe tbody tr th:only-of-type {\n",
       "        vertical-align: middle;\n",
       "    }\n",
       "\n",
       "    .dataframe tbody tr th {\n",
       "        vertical-align: top;\n",
       "    }\n",
       "\n",
       "    .dataframe thead th {\n",
       "        text-align: right;\n",
       "    }\n",
       "</style>\n",
       "<table border=\"1\" class=\"dataframe\">\n",
       "  <thead>\n",
       "    <tr style=\"text-align: right;\">\n",
       "      <th></th>\n",
       "      <th>CompanyName</th>\n",
       "      <th>Id</th>\n",
       "      <th>Quantity</th>\n",
       "      <th>UnitPrice</th>\n",
       "      <th>OrderDate</th>\n",
       "      <th>ShippedDate</th>\n",
       "      <th>ShipCountry</th>\n",
       "      <th>Revenue</th>\n",
       "      <th>DaysDelivery</th>\n",
       "    </tr>\n",
       "  </thead>\n",
       "  <tbody>\n",
       "    <tr>\n",
       "      <th>0</th>\n",
       "      <td>Federal Shipping</td>\n",
       "      <td>10248.0</td>\n",
       "      <td>12.0</td>\n",
       "      <td>14.0</td>\n",
       "      <td>2012-07-04</td>\n",
       "      <td>2012-07-16</td>\n",
       "      <td>France</td>\n",
       "      <td>168.0</td>\n",
       "      <td>12.0</td>\n",
       "    </tr>\n",
       "    <tr>\n",
       "      <th>1</th>\n",
       "      <td>Federal Shipping</td>\n",
       "      <td>10248.0</td>\n",
       "      <td>10.0</td>\n",
       "      <td>9.8</td>\n",
       "      <td>2012-07-04</td>\n",
       "      <td>2012-07-16</td>\n",
       "      <td>France</td>\n",
       "      <td>98.0</td>\n",
       "      <td>12.0</td>\n",
       "    </tr>\n",
       "    <tr>\n",
       "      <th>2</th>\n",
       "      <td>Federal Shipping</td>\n",
       "      <td>10248.0</td>\n",
       "      <td>5.0</td>\n",
       "      <td>34.8</td>\n",
       "      <td>2012-07-04</td>\n",
       "      <td>2012-07-16</td>\n",
       "      <td>France</td>\n",
       "      <td>174.0</td>\n",
       "      <td>12.0</td>\n",
       "    </tr>\n",
       "    <tr>\n",
       "      <th>3</th>\n",
       "      <td>Speedy Express</td>\n",
       "      <td>10249.0</td>\n",
       "      <td>9.0</td>\n",
       "      <td>18.6</td>\n",
       "      <td>2012-07-05</td>\n",
       "      <td>2012-07-10</td>\n",
       "      <td>Germany</td>\n",
       "      <td>167.4</td>\n",
       "      <td>5.0</td>\n",
       "    </tr>\n",
       "    <tr>\n",
       "      <th>4</th>\n",
       "      <td>Speedy Express</td>\n",
       "      <td>10249.0</td>\n",
       "      <td>40.0</td>\n",
       "      <td>42.4</td>\n",
       "      <td>2012-07-05</td>\n",
       "      <td>2012-07-10</td>\n",
       "      <td>Germany</td>\n",
       "      <td>1696.0</td>\n",
       "      <td>5.0</td>\n",
       "    </tr>\n",
       "  </tbody>\n",
       "</table>\n",
       "</div>"
      ],
      "text/plain": [
       "        CompanyName       Id  Quantity  UnitPrice   OrderDate ShippedDate  \\\n",
       "0  Federal Shipping  10248.0      12.0       14.0  2012-07-04  2012-07-16   \n",
       "1  Federal Shipping  10248.0      10.0        9.8  2012-07-04  2012-07-16   \n",
       "2  Federal Shipping  10248.0       5.0       34.8  2012-07-04  2012-07-16   \n",
       "3    Speedy Express  10249.0       9.0       18.6  2012-07-05  2012-07-10   \n",
       "4    Speedy Express  10249.0      40.0       42.4  2012-07-05  2012-07-10   \n",
       "\n",
       "  ShipCountry  Revenue  DaysDelivery  \n",
       "0      France    168.0          12.0  \n",
       "1      France     98.0          12.0  \n",
       "2      France    174.0          12.0  \n",
       "3     Germany    167.4           5.0  \n",
       "4     Germany   1696.0           5.0  "
      ]
     },
     "execution_count": 56,
     "metadata": {},
     "output_type": "execute_result"
    }
   ],
   "source": [
    "result.head()"
   ]
  },
  {
   "cell_type": "code",
   "execution_count": 57,
   "metadata": {},
   "outputs": [
    {
     "data": {
      "image/png": "[encoded data removed]",
      "text/plain": [
       "<Figure size 1008x576 with 1 Axes>"
      ]
     },
     "metadata": {},
     "output_type": "display_data"
    }
   ],
   "source": [
    "result.groupby('CompanyName')['DaysDelivery'].mean().plot(kind = 'bar', figsize = (14,8), rot = 0)\n",
    "plt.title('Days needed to deliver', fontsize = 28)\n",
    "plt.ylabel('Number of Days', fontsize = 24)\n",
    "plt.xlabel('CompanyName', fontsize = 24)\n",
    "plt.xticks(fontsize = 18);"
   ]
  },
  {
   "cell_type": "markdown",
   "metadata": {},
   "source": [
    "After a first look at the graphic we can say that Federal Shipping seems to take on average less days to complete a delivery.\n",
    "\n",
    "Let's check this through a multicomparison test: Tukey."
   ]
  },
  {
   "cell_type": "code",
   "execution_count": 58,
   "metadata": {},
   "outputs": [],
   "source": [
    "federal_ship = result[result['CompanyName'] == 'Federal Shipping']['DaysDelivery']\n",
    "speedy_ship = result[result['CompanyName'] == 'Speedy Express']['DaysDelivery']\n",
    "united_ship = result[result['CompanyName'] == 'United Package']['DaysDelivery']"
   ]
  },
  {
   "cell_type": "code",
   "execution_count": 59,
   "metadata": {},
   "outputs": [
    {
     "data": {
      "text/plain": [
       "2067"
      ]
     },
     "execution_count": 59,
     "metadata": {},
     "output_type": "execute_result"
    }
   ],
   "source": [
    "v = np.concatenate([federal_ship, speedy_ship, united_ship])\n",
    "len(v)"
   ]
  },
  {
   "cell_type": "code",
   "execution_count": 60,
   "metadata": {},
   "outputs": [
    {
     "data": {
      "text/plain": [
       "2067"
      ]
     },
     "execution_count": 60,
     "metadata": {},
     "output_type": "execute_result"
    }
   ],
   "source": [
    "labels = ['federal_ship'] * len(federal_ship) + ['speedy_ship'] * len(speedy_ship) + ['united_ship'] * len(united_ship) \n",
    "len(labels)"
   ]
  },
  {
   "cell_type": "code",
   "execution_count": 61,
   "metadata": {},
   "outputs": [
    {
     "name": "stdout",
     "output_type": "stream",
     "text": [
      "  Multiple Comparison of Means - Tukey HSD,FWER=0.05  \n",
      "======================================================\n",
      "   group1       group2   meandiff lower  upper  reject\n",
      "------------------------------------------------------\n",
      "federal_ship speedy_ship  0.9739  0.0934 1.8544  True \n",
      "federal_ship united_ship  1.4712  0.639  2.3033  True \n",
      "speedy_ship  united_ship  0.4973  -0.336 1.3305 False \n",
      "------------------------------------------------------\n"
     ]
    }
   ],
   "source": [
    "print(pairwise_tukeyhsd(v, labels, 0.05))"
   ]
  },
  {
   "cell_type": "markdown",
   "metadata": {},
   "source": [
    "The test shows clearly that Federal Shipping is more efficient .\n",
    "\n",
    "We advice the management to understand why the others companies are taking longer and in case to ask for a discount or to switch all the orders to the Federal shipper."
   ]
  },
  {
   "cell_type": "code",
   "execution_count": 62,
   "metadata": {},
   "outputs": [],
   "source": [
    "federal_ship = dates1[dates1['CompanyName'] == 'Federal Shipping']['Revenue']\n",
    "speedy_ship = dates1[dates1['CompanyName'] == 'Speedy Express']['Revenue']\n",
    "united_ship = dates1[dates1['CompanyName'] == 'United Package']['Revenue']"
   ]
  },
  {
   "cell_type": "code",
   "execution_count": 63,
   "metadata": {},
   "outputs": [
    {
     "data": {
      "text/plain": [
       "2082"
      ]
     },
     "execution_count": 63,
     "metadata": {},
     "output_type": "execute_result"
    }
   ],
   "source": [
    "v = np.concatenate([federal_ship, speedy_ship, united_ship])\n",
    "len(v)"
   ]
  },
  {
   "cell_type": "code",
   "execution_count": 64,
   "metadata": {},
   "outputs": [
    {
     "data": {
      "text/plain": [
       "2082"
      ]
     },
     "execution_count": 64,
     "metadata": {},
     "output_type": "execute_result"
    }
   ],
   "source": [
    "labels = ['federal_ship'] * len(federal_ship) + ['speedy_ship'] * len(speedy_ship) + ['united_ship'] * len(united_ship) \n",
    "len(labels)"
   ]
  },
  {
   "cell_type": "code",
   "execution_count": 65,
   "metadata": {},
   "outputs": [
    {
     "name": "stdout",
     "output_type": "stream",
     "text": [
      "     Multiple Comparison of Means - Tukey HSD,FWER=0.05    \n",
      "===========================================================\n",
      "   group1       group2   meandiff   lower    upper   reject\n",
      "-----------------------------------------------------------\n",
      "federal_ship speedy_ship -49.3423 -186.9615  88.277  False \n",
      "federal_ship united_ship 50.5271   -79.4336 180.4878 False \n",
      "speedy_ship  united_ship 99.8694   -29.9765 229.7152 False \n",
      "-----------------------------------------------------------\n"
     ]
    }
   ],
   "source": [
    "print(pairwise_tukeyhsd(v, labels, 0.05))"
   ]
  },
  {
   "cell_type": "markdown",
   "metadata": {},
   "source": [
    "# 5th Question"
   ]
  },
  {
   "cell_type": "markdown",
   "metadata": {},
   "source": [
    "### There's statistically significant difference between Revenue for different countries?"
   ]
  },
  {
   "cell_type": "markdown",
   "metadata": {},
   "source": [
    "# Defining Null and Alternative Hipothesis\n",
    "\n",
    "Considering that we wanna observe if Revenue of a country is greater than the Revenue of another country we'll perform a **_One Tail Test_**.\n",
    "\n",
    "**H_null** = there is no statistically difference beetwen different Countries in terms of Revenue\n",
    "\n",
    "**H_alt** =  there is statistically difference beetwen different Countries in terms of Revenue\n",
    "\n",
    "Alpha level: 0.05"
   ]
  },
  {
   "cell_type": "code",
   "execution_count": 66,
   "metadata": {},
   "outputs": [],
   "source": [
    "dates1 = pd.read_sql_query('''\n",
    "                            SELECT [order].Id, Quantity, UnitPrice, ShipCountry, Quantity*UnitPrice as Revenue\n",
    "                            \n",
    "                            FROM [order]\n",
    "                            JOIN orderdetail\n",
    "                            \n",
    "                            ON [Order].Id = orderdetail.orderid\n",
    "                            JOIN shipper\n",
    "                            ON shipper.id = [order].shipvia\n",
    "                            \n",
    "                        \n",
    "                            ''', conn)"
   ]
  },
  {
   "cell_type": "code",
   "execution_count": 67,
   "metadata": {},
   "outputs": [
    {
     "data": {
      "text/html": [
       "<div>\n",
       "<style scoped>\n",
       "    .dataframe tbody tr th:only-of-type {\n",
       "        vertical-align: middle;\n",
       "    }\n",
       "\n",
       "    .dataframe tbody tr th {\n",
       "        vertical-align: top;\n",
       "    }\n",
       "\n",
       "    .dataframe thead th {\n",
       "        text-align: right;\n",
       "    }\n",
       "</style>\n",
       "<table border=\"1\" class=\"dataframe\">\n",
       "  <thead>\n",
       "    <tr style=\"text-align: right;\">\n",
       "      <th></th>\n",
       "      <th>Id</th>\n",
       "      <th>Quantity</th>\n",
       "      <th>UnitPrice</th>\n",
       "      <th>ShipCountry</th>\n",
       "      <th>Revenue</th>\n",
       "    </tr>\n",
       "  </thead>\n",
       "  <tbody>\n",
       "    <tr>\n",
       "      <th>0</th>\n",
       "      <td>10248</td>\n",
       "      <td>12</td>\n",
       "      <td>14.0</td>\n",
       "      <td>France</td>\n",
       "      <td>168.0</td>\n",
       "    </tr>\n",
       "    <tr>\n",
       "      <th>1</th>\n",
       "      <td>10248</td>\n",
       "      <td>10</td>\n",
       "      <td>9.8</td>\n",
       "      <td>France</td>\n",
       "      <td>98.0</td>\n",
       "    </tr>\n",
       "    <tr>\n",
       "      <th>2</th>\n",
       "      <td>10248</td>\n",
       "      <td>5</td>\n",
       "      <td>34.8</td>\n",
       "      <td>France</td>\n",
       "      <td>174.0</td>\n",
       "    </tr>\n",
       "    <tr>\n",
       "      <th>3</th>\n",
       "      <td>10249</td>\n",
       "      <td>9</td>\n",
       "      <td>18.6</td>\n",
       "      <td>Germany</td>\n",
       "      <td>167.4</td>\n",
       "    </tr>\n",
       "    <tr>\n",
       "      <th>4</th>\n",
       "      <td>10249</td>\n",
       "      <td>40</td>\n",
       "      <td>42.4</td>\n",
       "      <td>Germany</td>\n",
       "      <td>1696.0</td>\n",
       "    </tr>\n",
       "  </tbody>\n",
       "</table>\n",
       "</div>"
      ],
      "text/plain": [
       "      Id  Quantity  UnitPrice ShipCountry  Revenue\n",
       "0  10248        12       14.0      France    168.0\n",
       "1  10248        10        9.8      France     98.0\n",
       "2  10248         5       34.8      France    174.0\n",
       "3  10249         9       18.6     Germany    167.4\n",
       "4  10249        40       42.4     Germany   1696.0"
      ]
     },
     "execution_count": 67,
     "metadata": {},
     "output_type": "execute_result"
    }
   ],
   "source": [
    "dates1.head()"
   ]
  },
  {
   "cell_type": "code",
   "execution_count": 68,
   "metadata": {
    "scrolled": true
   },
   "outputs": [
    {
     "data": {
      "text/plain": [
       "ShipCountry\n",
       "Austria        3565.855556\n",
       "Belgium        2750.000000\n",
       "Brazil         5541.000000\n",
       "Canada         2116.000000\n",
       "Denmark        6638.000000\n",
       "France         2312.500000\n",
       "Germany        3583.290833\n",
       "Ireland        5952.025000\n",
       "Sweden         3135.900000\n",
       "Switzerland    1964.000000\n",
       "UK             2431.500000\n",
       "USA            2715.600000\n",
       "Venezuela      2040.500000\n",
       "Name: Revenue, dtype: float64"
      ]
     },
     "execution_count": 68,
     "metadata": {},
     "output_type": "execute_result"
    }
   ],
   "source": [
    "df = dates1[(dates1['Quantity'] >= 50) & (dates1['Revenue'] >= 1500)].groupby('ShipCountry')['Revenue'].mean()\n",
    "df"
   ]
  },
  {
   "cell_type": "code",
   "execution_count": 69,
   "metadata": {},
   "outputs": [
    {
     "data": {
      "image/png": "[encoded data removed]",
      "text/plain": [
       "<Figure size 864x576 with 1 Axes>"
      ]
     },
     "metadata": {},
     "output_type": "display_data"
    }
   ],
   "source": [
    "sns.set(style=\"whitegrid\")\n",
    "new_plot = df.plot.bar(figsize = (12,8))\n",
    "new_plot.set_xlabel(\"Countries\", fontsize = 24)\n",
    "new_plot.set_ylabel(\"Average Revenue\", fontsize = 20)\n",
    "plt.legend(fontsize = 18)\n",
    "plt.title('Revenue by Country', fontsize = 24)\n",
    "plt.xticks(range(0,13), ['Aus', 'Bel', 'Braz', 'Can', 'Den', 'Fra', 'Ger', 'Ire', 'Swe', 'Swi', 'UK', 'USA', 'Ven'], fontsize = 16);"
   ]
  },
  {
   "cell_type": "markdown",
   "metadata": {},
   "source": [
    "As we can see from above, the highest quantity of products has been sold in the USA.\n",
    "We want so check if the revenue matches this situation or if our company should be investing more in other countries."
   ]
  },
  {
   "cell_type": "code",
   "execution_count": 70,
   "metadata": {},
   "outputs": [
    {
     "data": {
      "text/html": [
       "<div>\n",
       "<style scoped>\n",
       "    .dataframe tbody tr th:only-of-type {\n",
       "        vertical-align: middle;\n",
       "    }\n",
       "\n",
       "    .dataframe tbody tr th {\n",
       "        vertical-align: top;\n",
       "    }\n",
       "\n",
       "    .dataframe thead th {\n",
       "        text-align: right;\n",
       "    }\n",
       "</style>\n",
       "<table border=\"1\" class=\"dataframe\">\n",
       "  <thead>\n",
       "    <tr style=\"text-align: right;\">\n",
       "      <th></th>\n",
       "      <th>Id</th>\n",
       "      <th>Quantity</th>\n",
       "      <th>UnitPrice</th>\n",
       "      <th>ShipCountry</th>\n",
       "      <th>Revenue</th>\n",
       "    </tr>\n",
       "  </thead>\n",
       "  <tbody>\n",
       "    <tr>\n",
       "      <th>53</th>\n",
       "      <td>10267</td>\n",
       "      <td>70</td>\n",
       "      <td>44.0</td>\n",
       "      <td>Germany</td>\n",
       "      <td>3080.0</td>\n",
       "    </tr>\n",
       "    <tr>\n",
       "      <th>183</th>\n",
       "      <td>10316</td>\n",
       "      <td>70</td>\n",
       "      <td>39.4</td>\n",
       "      <td>USA</td>\n",
       "      <td>2758.0</td>\n",
       "    </tr>\n",
       "    <tr>\n",
       "      <th>200</th>\n",
       "      <td>10324</td>\n",
       "      <td>80</td>\n",
       "      <td>35.1</td>\n",
       "      <td>USA</td>\n",
       "      <td>2808.0</td>\n",
       "    </tr>\n",
       "    <tr>\n",
       "      <th>244</th>\n",
       "      <td>10339</td>\n",
       "      <td>70</td>\n",
       "      <td>31.2</td>\n",
       "      <td>Canada</td>\n",
       "      <td>2184.0</td>\n",
       "    </tr>\n",
       "    <tr>\n",
       "      <th>259</th>\n",
       "      <td>10344</td>\n",
       "      <td>70</td>\n",
       "      <td>32.0</td>\n",
       "      <td>USA</td>\n",
       "      <td>2240.0</td>\n",
       "    </tr>\n",
       "  </tbody>\n",
       "</table>\n",
       "</div>"
      ],
      "text/plain": [
       "        Id  Quantity  UnitPrice ShipCountry  Revenue\n",
       "53   10267        70       44.0     Germany   3080.0\n",
       "183  10316        70       39.4         USA   2758.0\n",
       "200  10324        80       35.1         USA   2808.0\n",
       "244  10339        70       31.2      Canada   2184.0\n",
       "259  10344        70       32.0         USA   2240.0"
      ]
     },
     "execution_count": 70,
     "metadata": {},
     "output_type": "execute_result"
    }
   ],
   "source": [
    "df = dates1[(dates1['Quantity'] >= 50) & (dates1['Revenue'] >= 1500)]\n",
    "df.head()"
   ]
  },
  {
   "cell_type": "code",
   "execution_count": 71,
   "metadata": {},
   "outputs": [],
   "source": [
    "dict_country = {}\n",
    "for x in df['ShipCountry'].unique():\n",
    "    dict_country[x] = df[df['ShipCountry'] == x]['Revenue']"
   ]
  },
  {
   "cell_type": "code",
   "execution_count": 72,
   "metadata": {},
   "outputs": [],
   "source": [
    "list_country = []\n",
    "for x in dict_country:\n",
    "    a = [str(x)] * len(dict_country[x])\n",
    "    list_country.append(a)"
   ]
  },
  {
   "cell_type": "code",
   "execution_count": 73,
   "metadata": {},
   "outputs": [],
   "source": [
    "labels = np.concatenate(list_country)"
   ]
  },
  {
   "cell_type": "code",
   "execution_count": 74,
   "metadata": {},
   "outputs": [],
   "source": [
    "country_lis = []\n",
    "for x in dict_country:\n",
    "    country_lis.append(dict_country[x].values)\n",
    "    \n",
    "country_lis\n",
    "v = np.concatenate(country_lis)"
   ]
  },
  {
   "cell_type": "code",
   "execution_count": 75,
   "metadata": {},
   "outputs": [
    {
     "data": {
      "text/plain": [
       "(89, 89)"
      ]
     },
     "execution_count": 75,
     "metadata": {},
     "output_type": "execute_result"
    }
   ],
   "source": [
    "len(labels), len(v)"
   ]
  },
  {
   "cell_type": "code",
   "execution_count": 76,
   "metadata": {},
   "outputs": [
    {
     "name": "stdout",
     "output_type": "stream",
     "text": [
      "       Multiple Comparison of Means - Tukey HSD,FWER=0.05       \n",
      "================================================================\n",
      "   group1      group2    meandiff     lower      upper    reject\n",
      "----------------------------------------------------------------\n",
      "  Austria     Belgium   -815.8556  -10082.5251  8450.814  False \n",
      "  Austria      Brazil   1975.1444   -3010.5794 6960.8683  False \n",
      "  Austria      Canada   -1449.8556  -5467.4663 2567.7552  False \n",
      "  Austria     Denmark   3072.1444   -3650.6042 9794.8931  False \n",
      "  Austria      France   -1253.3556  -7976.1042 5469.3931  False \n",
      "  Austria     Germany    17.4353    -3343.9391 3378.8096  False \n",
      "  Austria     Ireland   2386.1694   -2599.5544 7371.8933  False \n",
      "  Austria      Sweden   -429.9556   -4989.5455 4129.6344  False \n",
      "  Austria   Switzerland -1601.8556  -8324.6042 5120.8931  False \n",
      "  Austria        UK     -1134.3556  -6120.0794 3851.3683  False \n",
      "  Austria       USA     -850.2556   -3662.5831  1962.072  False \n",
      "  Austria    Venezuela  -1525.3556  -6511.0794 3460.3683  False \n",
      "  Belgium      Brazil     2791.0    -7293.123  12875.123  False \n",
      "  Belgium      Canada     -634.0   -10276.2659 9008.2659  False \n",
      "  Belgium     Denmark     3888.0    -7158.6033 14934.6033 False \n",
      "  Belgium      France     -437.5   -11484.1033 10609.1033 False \n",
      "  Belgium     Germany    833.2908   -8554.5168 10221.0985 False \n",
      "  Belgium     Ireland    3202.025   -6882.098  13286.148  False \n",
      "  Belgium      Sweden     385.9     -9494.4823 10266.2823 False \n",
      "  Belgium   Switzerland   -786.0   -11832.6033 10260.6033 False \n",
      "  Belgium        UK       -318.5    -10402.623  9765.623  False \n",
      "  Belgium       USA       -34.4     -9239.9027 9171.1027  False \n",
      "  Belgium    Venezuela    -709.5    -10793.623  9374.623  False \n",
      "   Brazil      Canada    -3425.0    -9078.2795 2228.2795  False \n",
      "   Brazil     Denmark     1097.0    -6714.1281 8908.1281  False \n",
      "   Brazil      France    -3228.5   -11039.6281 4582.6281  False \n",
      "   Brazil     Germany   -1957.7092  -7165.1279 3249.7096  False \n",
      "   Brazil     Ireland    411.025    -5966.7344 6788.7844  False \n",
      "   Brazil      Sweden    -2405.1    -8455.5738 3645.3738  False \n",
      "   Brazil   Switzerland  -3577.0   -11388.1281 4234.1281  False \n",
      "   Brazil        UK      -3109.5    -9487.2594 3268.2594  False \n",
      "   Brazil       USA      -2825.4    -7696.4942 2045.6942  False \n",
      "   Brazil    Venezuela   -3500.5    -9878.2594 2877.2594  False \n",
      "   Canada     Denmark     4522.0    -2709.6994 11753.6994 False \n",
      "   Canada      France     196.5     -7035.1994 7428.1994  False \n",
      "   Canada     Germany   1467.2908   -2822.3436 5756.9253  False \n",
      "   Canada     Ireland    3836.025   -1817.2545 9489.3045  False \n",
      "   Canada      Sweden     1019.9    -4261.3865 6301.1865  False \n",
      "   Canada   Switzerland   -152.0    -7383.6994 7079.6994  False \n",
      "   Canada        UK       315.5     -5337.7795 5968.7795  False \n",
      "   Canada       USA       599.6     -3274.8435 4474.0435  False \n",
      "   Canada    Venezuela    -75.5     -5728.7795 5577.7795  False \n",
      "  Denmark      France    -4325.5   -13345.0138 4694.0138  False \n",
      "  Denmark     Germany   -3054.7092  -9943.4766 3834.0583  False \n",
      "  Denmark     Ireland    -685.975   -8497.1031 7125.1531  False \n",
      "  Denmark      Sweden    -3502.1   -11048.3667 4044.1667  False \n",
      "  Denmark   Switzerland  -4674.0   -13693.5138 4345.5138  False \n",
      "  Denmark        UK      -4206.5   -12017.6281 3604.6281  False \n",
      "  Denmark       USA      -3922.4   -10560.5824 2715.7824  False \n",
      "  Denmark    Venezuela   -4597.5   -12408.6281 3213.6281  False \n",
      "   France     Germany   1270.7908   -5617.9766 8159.5583  False \n",
      "   France     Ireland    3639.525   -4171.6031 11450.6531 False \n",
      "   France      Sweden     823.4     -6722.8667 8369.6667  False \n",
      "   France   Switzerland   -348.5    -9368.0138 8671.0138  False \n",
      "   France        UK       119.0     -7692.1281 7930.1281  False \n",
      "   France       USA       403.1     -6235.0824 7041.2824  False \n",
      "   France    Venezuela    -272.0    -8083.1281 7539.1281  False \n",
      "  Germany     Ireland   2368.7342   -2838.6846 7576.1529  False \n",
      "  Germany      Sweden   -447.3908   -5248.3937  4353.612  False \n",
      "  Germany   Switzerland -1619.2908  -8508.0583 5269.4766  False \n",
      "  Germany        UK     -1151.7908  -6359.2096 4055.6279  False \n",
      "  Germany       USA     -867.6908   -4056.5705 2321.1889  False \n",
      "  Germany    Venezuela  -1542.7908  -6750.2096 3664.6279  False \n",
      "  Ireland      Sweden   -2816.125   -8866.5988 3234.3488  False \n",
      "  Ireland   Switzerland -3988.025  -11799.1531 3823.1031  False \n",
      "  Ireland        UK     -3520.525   -9898.2844 2857.2344  False \n",
      "  Ireland       USA     -3236.425   -8107.5192 1634.6692  False \n",
      "  Ireland    Venezuela  -3911.525  -10289.2844 2466.2344  False \n",
      "   Sweden   Switzerland  -1171.9    -8718.1667 6374.3667  False \n",
      "   Sweden        UK       -704.4    -6754.8738 5346.0738  False \n",
      "   Sweden       USA       -420.3    -4854.2573 4013.6573  False \n",
      "   Sweden    Venezuela   -1095.4    -7145.8738 4955.0738  False \n",
      "Switzerland      UK       467.5     -7343.6281 8278.6281  False \n",
      "Switzerland     USA       751.6     -5886.5824 7389.7824  False \n",
      "Switzerland  Venezuela     76.5     -7734.6281 7887.6281  False \n",
      "     UK         USA       284.1     -4586.9942 5155.1942  False \n",
      "     UK      Venezuela    -391.0    -6768.7594 5986.7594  False \n",
      "    USA      Venezuela    -675.1    -5546.1942 4195.9942  False \n",
      "----------------------------------------------------------------\n"
     ]
    }
   ],
   "source": [
    "print(pairwise_tukeyhsd(v, labels, 0.05))"
   ]
  },
  {
   "cell_type": "markdown",
   "metadata": {},
   "source": [
    "We reject the Null Hypothesis for all the countries compared in terms of Revenue.\n",
    "\n",
    "The Profit is the same in proportion no matter which Country we take in consideration.\n",
    "\n",
    "For this reason we advice the management to keep investing also on those contries where the revenue is not as high as the others, in fact from the test results that on average the Revenue obtained is the same."
   ]
  },
  {
   "cell_type": "markdown",
   "metadata": {},
   "source": [
    "# Category"
   ]
  },
  {
   "cell_type": "markdown",
   "metadata": {},
   "source": [
    "### There is statistically significant difference between different categories?"
   ]
  },
  {
   "cell_type": "markdown",
   "metadata": {},
   "source": [
    "# Defining Null and Alternative Hipothesis\n",
    "\n",
    "Considering that we wanna observe if Revenue of a category is greater than the Revenue of another category we'll perform a **_One Tail Test_**.\n",
    "\n",
    "**H_null** = there is no statistically difference beetwen different categories in terms of Revenue\n",
    "\n",
    "**H_alt** =  there is statistically difference beetwen different categories in terms of Revenue\n",
    "\n",
    "Alpha level: 0.05"
   ]
  },
  {
   "cell_type": "markdown",
   "metadata": {},
   "source": [
    "We want to check if some categories are more valuable than others in terms of Revenue."
   ]
  },
  {
   "cell_type": "code",
   "execution_count": 77,
   "metadata": {},
   "outputs": [],
   "source": [
    "cat = pd.read_sql_query('''\n",
    "                            SELECT CategoryId, CategoryName, Description,\n",
    "                            Category.Id, Quantity, UnitPrice, Quantity*UnitPrice as Revenue\n",
    "                            \n",
    "                            FROM Category\n",
    "                            JOIN Product\n",
    "                          \n",
    "                            USING(Id)\n",
    "                            JOIN OrderDetail\n",
    "                            USING(UnitPrice)\n",
    "                            \n",
    "                        \n",
    "                            ''', conn)"
   ]
  },
  {
   "cell_type": "code",
   "execution_count": 78,
   "metadata": {},
   "outputs": [
    {
     "data": {
      "image/png": "[encoded data removed]",
      "text/plain": [
       "<Figure size 1440x720 with 1 Axes>"
      ]
     },
     "metadata": {},
     "output_type": "display_data"
    }
   ],
   "source": [
    "cat.groupby('CategoryName')['Revenue'].mean().plot(kind = 'bar', figsize = (20,10))\n",
    "plt.legend(fontsize = 18)\n",
    "plt.title('Revenue by Category', fontsize = 24)\n",
    "plt.xticks(fontsize = 18)\n",
    "plt.xlabel('Category', fontsize = 24)\n",
    "plt.ylabel('Frequency', fontsize = 24);"
   ]
  },
  {
   "cell_type": "code",
   "execution_count": 79,
   "metadata": {},
   "outputs": [
    {
     "name": "stdout",
     "output_type": "stream",
     "text": [
      "0        36.0\n",
      "1        36.0\n",
      "2        36.0\n",
      "3        36.0\n",
      "4        54.0\n",
      "5        54.0\n",
      "6        54.0\n",
      "7        54.0\n",
      "8        72.0\n",
      "9        72.0\n",
      "10       72.0\n",
      "11       72.0\n",
      "12       72.0\n",
      "13       90.0\n",
      "14       90.0\n",
      "15       90.0\n",
      "16      108.0\n",
      "17      108.0\n",
      "18      108.0\n",
      "19      108.0\n",
      "20      144.0\n",
      "21      144.0\n",
      "22      144.0\n",
      "23      144.0\n",
      "24      144.0\n",
      "25      162.0\n",
      "26      180.0\n",
      "27      180.0\n",
      "28      180.0\n",
      "29      180.0\n",
      "        ...  \n",
      "72      540.0\n",
      "73      540.0\n",
      "74      540.0\n",
      "75      540.0\n",
      "76      540.0\n",
      "77      540.0\n",
      "78      540.0\n",
      "79      630.0\n",
      "80      630.0\n",
      "81      630.0\n",
      "82      630.0\n",
      "83      720.0\n",
      "84      720.0\n",
      "85      720.0\n",
      "86      720.0\n",
      "87      792.0\n",
      "88      810.0\n",
      "89      810.0\n",
      "90      900.0\n",
      "91      900.0\n",
      "92      900.0\n",
      "93      900.0\n",
      "94     1080.0\n",
      "95     1080.0\n",
      "96     1080.0\n",
      "97     1440.0\n",
      "98     1440.0\n",
      "99     1440.0\n",
      "100    1620.0\n",
      "101    2340.0\n",
      "Name: Revenue, Length: 102, dtype: float64\n",
      "102      57.0\n",
      "103      95.0\n",
      "104      95.0\n",
      "105      95.0\n",
      "106     114.0\n",
      "107     114.0\n",
      "108     152.0\n",
      "109     190.0\n",
      "110     190.0\n",
      "111     190.0\n",
      "112     190.0\n",
      "113     190.0\n",
      "114     190.0\n",
      "115     209.0\n",
      "116     228.0\n",
      "117     228.0\n",
      "118     285.0\n",
      "119     285.0\n",
      "120     285.0\n",
      "121     285.0\n",
      "122     304.0\n",
      "123     342.0\n",
      "124     380.0\n",
      "125     380.0\n",
      "126     380.0\n",
      "127     380.0\n",
      "128     380.0\n",
      "129     380.0\n",
      "130     380.0\n",
      "131     380.0\n",
      "132     399.0\n",
      "133     399.0\n",
      "134     456.0\n",
      "135     475.0\n",
      "136     475.0\n",
      "137     570.0\n",
      "138     570.0\n",
      "139     570.0\n",
      "140     570.0\n",
      "141     570.0\n",
      "142     570.0\n",
      "143     570.0\n",
      "144     570.0\n",
      "145     665.0\n",
      "146     760.0\n",
      "147     760.0\n",
      "148     760.0\n",
      "149     950.0\n",
      "150     950.0\n",
      "151     950.0\n",
      "152    1045.0\n",
      "153    1140.0\n",
      "154    1900.0\n",
      "Name: Revenue, dtype: float64\n",
      "155     30.0\n",
      "156     30.0\n",
      "157     30.0\n",
      "158     30.0\n",
      "159     40.0\n",
      "160     40.0\n",
      "161     40.0\n",
      "162     50.0\n",
      "163     50.0\n",
      "164     60.0\n",
      "165     60.0\n",
      "166     60.0\n",
      "167     80.0\n",
      "168     80.0\n",
      "169    100.0\n",
      "170    100.0\n",
      "171    120.0\n",
      "172    120.0\n",
      "173    120.0\n",
      "174    140.0\n",
      "175    140.0\n",
      "176    150.0\n",
      "177    150.0\n",
      "178    150.0\n",
      "179    150.0\n",
      "180    150.0\n",
      "181    200.0\n",
      "182    200.0\n",
      "183    200.0\n",
      "184    200.0\n",
      "       ...  \n",
      "196    300.0\n",
      "197    300.0\n",
      "198    300.0\n",
      "199    300.0\n",
      "200    300.0\n",
      "201    300.0\n",
      "202    320.0\n",
      "203    320.0\n",
      "204    350.0\n",
      "205    350.0\n",
      "206    360.0\n",
      "207    360.0\n",
      "208    400.0\n",
      "209    400.0\n",
      "210    400.0\n",
      "211    400.0\n",
      "212    400.0\n",
      "213    400.0\n",
      "214    400.0\n",
      "215    420.0\n",
      "216    420.0\n",
      "217    490.0\n",
      "218    560.0\n",
      "219    600.0\n",
      "220    600.0\n",
      "221    600.0\n",
      "222    600.0\n",
      "223    600.0\n",
      "224    650.0\n",
      "225    700.0\n",
      "Name: Revenue, Length: 71, dtype: float64\n",
      "226      22.0\n",
      "227     110.0\n",
      "228     132.0\n",
      "229     220.0\n",
      "230     264.0\n",
      "231     440.0\n",
      "232     462.0\n",
      "233     550.0\n",
      "234     550.0\n",
      "235     550.0\n",
      "236     660.0\n",
      "237    1100.0\n",
      "238    1100.0\n",
      "239    1100.0\n",
      "Name: Revenue, dtype: float64\n",
      "240      85.40\n",
      "241     320.25\n",
      "242     427.00\n",
      "243     640.50\n",
      "244     640.50\n",
      "245    1494.50\n",
      "Name: Revenue, dtype: float64\n",
      "246      25.0\n",
      "247     150.0\n",
      "248     300.0\n",
      "249     400.0\n",
      "250     500.0\n",
      "251     500.0\n",
      "252     750.0\n",
      "253    1000.0\n",
      "254    1250.0\n",
      "255    1750.0\n",
      "Name: Revenue, dtype: float64\n",
      "256      30.0\n",
      "257      90.0\n",
      "258     120.0\n",
      "259     150.0\n",
      "260     180.0\n",
      "261     240.0\n",
      "262     300.0\n",
      "263     300.0\n",
      "264     360.0\n",
      "265     450.0\n",
      "266     540.0\n",
      "267     600.0\n",
      "268     600.0\n",
      "269     600.0\n",
      "270     600.0\n",
      "271    1050.0\n",
      "272    1050.0\n",
      "273    1200.0\n",
      "274    1350.0\n",
      "275    1350.0\n",
      "276    1500.0\n",
      "277    1800.0\n",
      "278    1800.0\n",
      "279    1800.0\n",
      "280    2700.0\n",
      "Name: Revenue, dtype: float64\n",
      "281      80.0\n",
      "282     400.0\n",
      "283     400.0\n",
      "284     640.0\n",
      "285     800.0\n",
      "286     800.0\n",
      "287     960.0\n",
      "288    1200.0\n",
      "289    1200.0\n",
      "290    1200.0\n",
      "291    1600.0\n",
      "Name: Revenue, dtype: float64\n"
     ]
    }
   ],
   "source": [
    "dict_cat = {}\n",
    "for x in cat['CategoryName'].unique():\n",
    "    print(cat[cat['CategoryName'] == x]['Revenue'])\n",
    "    dict_cat[x] = cat[cat['CategoryName'] == x]['Revenue']\n",
    "    "
   ]
  },
  {
   "cell_type": "code",
   "execution_count": 80,
   "metadata": {},
   "outputs": [],
   "source": [
    "list_category = []\n",
    "for x in dict_cat:\n",
    "    a = [str(x)] * len(dict_cat[x])\n",
    "    list_category.append(a)"
   ]
  },
  {
   "cell_type": "code",
   "execution_count": 81,
   "metadata": {},
   "outputs": [],
   "source": [
    "labels = np.concatenate(list_category)"
   ]
  },
  {
   "cell_type": "code",
   "execution_count": 82,
   "metadata": {
    "scrolled": true
   },
   "outputs": [],
   "source": [
    "cat_lis = []\n",
    "for x in dict_cat:\n",
    "    cat_lis.append(dict_cat[x].values)\n",
    "    \n",
    "cat_lis\n",
    "v = np.concatenate(cat_lis)"
   ]
  },
  {
   "cell_type": "code",
   "execution_count": 83,
   "metadata": {},
   "outputs": [
    {
     "data": {
      "text/plain": [
       "(292, 292)"
      ]
     },
     "execution_count": 83,
     "metadata": {},
     "output_type": "execute_result"
    }
   ],
   "source": [
    "len(labels), len(v)"
   ]
  },
  {
   "cell_type": "code",
   "execution_count": 84,
   "metadata": {},
   "outputs": [
    {
     "name": "stdout",
     "output_type": "stream",
     "text": [
      "        Multiple Comparison of Means - Tukey HSD,FWER=0.05       \n",
      "=================================================================\n",
      "    group1         group2      meandiff   lower    upper   reject\n",
      "-----------------------------------------------------------------\n",
      "  Beverages      Condiments    32.4206  -167.8972 232.7385 False \n",
      "  Beverages     Confections   -160.7755 -343.6215 22.0706  False \n",
      "  Beverages    Dairy Products  98.2185  -238.9575 435.3945 False \n",
      "  Beverages    Grains/Cereals  181.0054  -315.962 677.9728 False \n",
      "  Beverages     Meat/Poultry   242.1471 -149.8661 634.1603 False \n",
      "  Beverages       Produce      410.0471  146.0351 674.059   True \n",
      "  Beverages       Seafood      423.2834  47.8486  798.7182  True \n",
      "  Condiments    Confections   -193.1961 -407.9473  21.555  False \n",
      "  Condiments   Dairy Products  65.7978   -289.692 421.2877 False \n",
      "  Condiments   Grains/Cereals  148.5847 -360.9857 658.1552 False \n",
      "  Condiments    Meat/Poultry   209.7264 -198.1458 617.5986 False \n",
      "  Condiments      Produce      377.6264  90.5939  664.6589  True \n",
      "  Condiments      Seafood      390.8628  -1.1024  782.8279 False \n",
      " Confections   Dairy Products  258.994   -86.9518 604.9397 False \n",
      " Confections   Grains/Cereals  341.7809 -161.1778 844.7396 False \n",
      " Confections    Meat/Poultry   402.9225   3.3413  802.5038  True \n",
      " Confections      Produce      570.8225  295.6987 845.9464  True \n",
      " Confections      Seafood      584.0589  200.7286 967.3892  True \n",
      "Dairy Products Grains/Cereals  82.7869  -494.4673 660.0411 False \n",
      "Dairy Products  Meat/Poultry   143.9286 -345.8879 633.745  False \n",
      "Dairy Products    Produce      311.8286  -83.0741 706.7312 False \n",
      "Dairy Products    Seafood      325.0649  -151.587 801.7169 False \n",
      "Grains/Cereals  Meat/Poultry   61.1417  -549.7668 672.0501 False \n",
      "Grains/Cereals    Produce      229.0417  -308.766 766.8493 False \n",
      "Grains/Cereals    Seafood      242.278  -358.1269 842.683  False \n",
      " Meat/Poultry     Produce       167.9   -274.7452 610.5452 False \n",
      " Meat/Poultry     Seafood      181.1364 -335.7619 698.0346 False \n",
      "   Produce        Seafood      13.2364  -414.7961 441.2688 False \n",
      "-----------------------------------------------------------------\n"
     ]
    }
   ],
   "source": [
    "print(pairwise_tukeyhsd(v, labels, 0.05))"
   ]
  },
  {
   "cell_type": "markdown",
   "metadata": {},
   "source": [
    "From our test results that there's a significant difference between categories.\n",
    "\n",
    "Comes out that the categories with the highest Revenue are Seafood, Produce and Meat/Poultry.\n",
    "\n",
    "In particular we raccomand to focus our production on Produce.\n",
    "\n",
    "Being the description of this category \"Dried fruit and bean curd\" we know that are easy to conserve and ship compared to Seafood and Meat/Poultry.\n"
   ]
  }
 ],
 "metadata": {
  "kernelspec": {
   "display_name": "Python [conda env:learn-env] *",
   "language": "python",
   "name": "conda-env-learn-env-py"
  },
  "language_info": {
   "codemirror_mode": {
    "name": "ipython",
    "version": 3
   },
   "file_extension": ".py",
   "mimetype": "text/x-python",
   "name": "python",
   "nbconvert_exporter": "python",
   "pygments_lexer": "ipython3",
   "version": "3.6.6"
  }
 },
 "nbformat": 4,
 "nbformat_minor": 2
}
